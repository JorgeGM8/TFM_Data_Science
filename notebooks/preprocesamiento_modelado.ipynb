{
 "cells": [
  {
   "cell_type": "markdown",
   "id": "a75f5062",
   "metadata": {},
   "source": [
    "# Preprocesamiento y modelado de datos de viviendas"
   ]
  },
  {
   "cell_type": "markdown",
   "id": "690f3d01",
   "metadata": {},
   "source": [
    "## Importación de librerías y carga de datos"
   ]
  },
  {
   "cell_type": "code",
   "execution_count": 1,
   "id": "b1996eb5",
   "metadata": {},
   "outputs": [],
   "source": [
    "import pandas as pd\n",
    "from imblearn.pipeline import Pipeline\n",
    "from sklearn.preprocessing import RobustScaler"
   ]
  },
  {
   "cell_type": "code",
   "execution_count": 2,
   "id": "10e7e59e",
   "metadata": {},
   "outputs": [
    {
     "data": {
      "text/html": [
       "<div>\n",
       "<style scoped>\n",
       "    .dataframe tbody tr th:only-of-type {\n",
       "        vertical-align: middle;\n",
       "    }\n",
       "\n",
       "    .dataframe tbody tr th {\n",
       "        vertical-align: top;\n",
       "    }\n",
       "\n",
       "    .dataframe thead th {\n",
       "        text-align: right;\n",
       "    }\n",
       "</style>\n",
       "<table border=\"1\" class=\"dataframe\">\n",
       "  <thead>\n",
       "    <tr style=\"text-align: right;\">\n",
       "      <th></th>\n",
       "      <th>Ano</th>\n",
       "      <th>Distrito</th>\n",
       "      <th>Esperanza_vida</th>\n",
       "      <th>Renta_neta_persona</th>\n",
       "      <th>Renta_neta_hogar</th>\n",
       "      <th>Renta_bruta_persona</th>\n",
       "      <th>Renta_bruta_hogar</th>\n",
       "      <th>Edad_media</th>\n",
       "      <th>Mayores_65anos%</th>\n",
       "      <th>Menores_18anos%</th>\n",
       "      <th>...</th>\n",
       "      <th>Terraza</th>\n",
       "      <th>Planta</th>\n",
       "      <th>Exterior</th>\n",
       "      <th>Ascensor</th>\n",
       "      <th>Ano_construccion</th>\n",
       "      <th>Ano_reforma</th>\n",
       "      <th>Tipo_vivienda</th>\n",
       "      <th>Banos</th>\n",
       "      <th>Precio_predicho</th>\n",
       "      <th>Precio_ajustado</th>\n",
       "    </tr>\n",
       "  </thead>\n",
       "  <tbody>\n",
       "    <tr>\n",
       "      <th>0</th>\n",
       "      <td>2011</td>\n",
       "      <td>CENTRO</td>\n",
       "      <td>83.2</td>\n",
       "      <td>NaN</td>\n",
       "      <td>NaN</td>\n",
       "      <td>NaN</td>\n",
       "      <td>NaN</td>\n",
       "      <td>NaN</td>\n",
       "      <td>NaN</td>\n",
       "      <td>NaN</td>\n",
       "      <td>...</td>\n",
       "      <td>False</td>\n",
       "      <td>0.0</td>\n",
       "      <td>False</td>\n",
       "      <td>False</td>\n",
       "      <td>NaN</td>\n",
       "      <td>NaN</td>\n",
       "      <td>apartamento</td>\n",
       "      <td>1</td>\n",
       "      <td>672.875811</td>\n",
       "      <td>657.471490</td>\n",
       "    </tr>\n",
       "    <tr>\n",
       "      <th>1</th>\n",
       "      <td>2011</td>\n",
       "      <td>CENTRO</td>\n",
       "      <td>83.2</td>\n",
       "      <td>NaN</td>\n",
       "      <td>NaN</td>\n",
       "      <td>NaN</td>\n",
       "      <td>NaN</td>\n",
       "      <td>NaN</td>\n",
       "      <td>NaN</td>\n",
       "      <td>NaN</td>\n",
       "      <td>...</td>\n",
       "      <td>False</td>\n",
       "      <td>5.0</td>\n",
       "      <td>True</td>\n",
       "      <td>True</td>\n",
       "      <td>NaN</td>\n",
       "      <td>NaN</td>\n",
       "      <td>apartamento</td>\n",
       "      <td>1</td>\n",
       "      <td>923.555035</td>\n",
       "      <td>894.792822</td>\n",
       "    </tr>\n",
       "    <tr>\n",
       "      <th>2</th>\n",
       "      <td>2011</td>\n",
       "      <td>CENTRO</td>\n",
       "      <td>83.2</td>\n",
       "      <td>NaN</td>\n",
       "      <td>NaN</td>\n",
       "      <td>NaN</td>\n",
       "      <td>NaN</td>\n",
       "      <td>NaN</td>\n",
       "      <td>NaN</td>\n",
       "      <td>NaN</td>\n",
       "      <td>...</td>\n",
       "      <td>False</td>\n",
       "      <td>3.0</td>\n",
       "      <td>True</td>\n",
       "      <td>True</td>\n",
       "      <td>1910.0</td>\n",
       "      <td>NaN</td>\n",
       "      <td>apartamento</td>\n",
       "      <td>2</td>\n",
       "      <td>1424.913483</td>\n",
       "      <td>1434.552312</td>\n",
       "    </tr>\n",
       "    <tr>\n",
       "      <th>3</th>\n",
       "      <td>2011</td>\n",
       "      <td>CENTRO</td>\n",
       "      <td>83.2</td>\n",
       "      <td>NaN</td>\n",
       "      <td>NaN</td>\n",
       "      <td>NaN</td>\n",
       "      <td>NaN</td>\n",
       "      <td>NaN</td>\n",
       "      <td>NaN</td>\n",
       "      <td>NaN</td>\n",
       "      <td>...</td>\n",
       "      <td>False</td>\n",
       "      <td>4.0</td>\n",
       "      <td>True</td>\n",
       "      <td>True</td>\n",
       "      <td>NaN</td>\n",
       "      <td>NaN</td>\n",
       "      <td>apartamento</td>\n",
       "      <td>1</td>\n",
       "      <td>2240.808388</td>\n",
       "      <td>2335.359589</td>\n",
       "    </tr>\n",
       "    <tr>\n",
       "      <th>4</th>\n",
       "      <td>2011</td>\n",
       "      <td>CENTRO</td>\n",
       "      <td>83.2</td>\n",
       "      <td>NaN</td>\n",
       "      <td>NaN</td>\n",
       "      <td>NaN</td>\n",
       "      <td>NaN</td>\n",
       "      <td>NaN</td>\n",
       "      <td>NaN</td>\n",
       "      <td>NaN</td>\n",
       "      <td>...</td>\n",
       "      <td>False</td>\n",
       "      <td>3.0</td>\n",
       "      <td>True</td>\n",
       "      <td>True</td>\n",
       "      <td>1940.0</td>\n",
       "      <td>NaN</td>\n",
       "      <td>apartamento</td>\n",
       "      <td>1</td>\n",
       "      <td>1583.237203</td>\n",
       "      <td>1571.481771</td>\n",
       "    </tr>\n",
       "  </tbody>\n",
       "</table>\n",
       "<p>5 rows × 32 columns</p>\n",
       "</div>"
      ],
      "text/plain": [
       "    Ano Distrito  Esperanza_vida  Renta_neta_persona  Renta_neta_hogar  \\\n",
       "0  2011   CENTRO            83.2                 NaN               NaN   \n",
       "1  2011   CENTRO            83.2                 NaN               NaN   \n",
       "2  2011   CENTRO            83.2                 NaN               NaN   \n",
       "3  2011   CENTRO            83.2                 NaN               NaN   \n",
       "4  2011   CENTRO            83.2                 NaN               NaN   \n",
       "\n",
       "   Renta_bruta_persona  Renta_bruta_hogar  Edad_media  Mayores_65anos%  \\\n",
       "0                  NaN                NaN         NaN              NaN   \n",
       "1                  NaN                NaN         NaN              NaN   \n",
       "2                  NaN                NaN         NaN              NaN   \n",
       "3                  NaN                NaN         NaN              NaN   \n",
       "4                  NaN                NaN         NaN              NaN   \n",
       "\n",
       "   Menores_18anos%  ...  Terraza  Planta  Exterior  Ascensor  \\\n",
       "0              NaN  ...    False     0.0     False     False   \n",
       "1              NaN  ...    False     5.0      True      True   \n",
       "2              NaN  ...    False     3.0      True      True   \n",
       "3              NaN  ...    False     4.0      True      True   \n",
       "4              NaN  ...    False     3.0      True      True   \n",
       "\n",
       "   Ano_construccion  Ano_reforma  Tipo_vivienda Banos  Precio_predicho  \\\n",
       "0               NaN          NaN    apartamento     1       672.875811   \n",
       "1               NaN          NaN    apartamento     1       923.555035   \n",
       "2            1910.0          NaN    apartamento     2      1424.913483   \n",
       "3               NaN          NaN    apartamento     1      2240.808388   \n",
       "4            1940.0          NaN    apartamento     1      1583.237203   \n",
       "\n",
       "   Precio_ajustado  \n",
       "0       657.471490  \n",
       "1       894.792822  \n",
       "2      1434.552312  \n",
       "3      2335.359589  \n",
       "4      1571.481771  \n",
       "\n",
       "[5 rows x 32 columns]"
      ]
     },
     "execution_count": 2,
     "metadata": {},
     "output_type": "execute_result"
    }
   ],
   "source": [
    "df_inicial = pd.read_csv('../data/final/viviendas_2011_2024.csv')\n",
    "df_inicial.head()"
   ]
  },
  {
   "cell_type": "markdown",
   "id": "f4137604",
   "metadata": {},
   "source": [
    "## Preprocesamiento"
   ]
  },
  {
   "cell_type": "markdown",
   "id": "d8bf23e1",
   "metadata": {},
   "source": [
    "Revisar notebook [EDA_viviendas_2011_2024](./EDA_viviendas_2011_2024.ipynb) para visualizar el análisis que da lugar a las decisiones tomadas en el preprocesamiento."
   ]
  },
  {
   "cell_type": "markdown",
   "id": "75e260ba",
   "metadata": {},
   "source": [
    "### 1. Eliminar e imputar columnas\n",
    "\n",
    "Eliminación de variables fuertemente correlacionadas, de variables con más del 90% de nulos e imputación de nulos de la columna \"Planta\"."
   ]
  },
  {
   "cell_type": "code",
   "execution_count": 3,
   "id": "42b7724f",
   "metadata": {},
   "outputs": [
    {
     "name": "stdout",
     "output_type": "stream",
     "text": [
      "Columnas restantes: ['Ano', 'Distrito', 'Esperanza_vida', 'Mayores_65anos%', 'Menores_18anos%', 'Paro_registrado%', 'Apartamentos_turisticos', 'Densidad_poblacion', 'Zonas_verdes%', 'Habitaciones', 'Operacion', 'Tamano', 'Garaje', 'Trastero', 'Piscina', 'Terraza', 'Planta', 'Exterior', 'Ascensor', 'Tipo_vivienda', 'Banos', 'Precio_ajustado', 'Planta_is_missing']\n"
     ]
    }
   ],
   "source": [
    "df = df_inicial.copy()\n",
    "\n",
    "# Elminación de Ano_construccion y Ano_reforma por exceso de nulos\n",
    "df = df.drop(columns=['Ano_construccion', 'Ano_reforma'])\n",
    "\n",
    "# Crear columna de indicador de nulos para Planta\n",
    "df['Planta_is_missing'] = df['Planta'].isna().astype(int)\n",
    "\n",
    "# Imputar valores nulos con la mediana para Planta (por distrito)\n",
    "df['Planta'] = df.groupby('Distrito')['Planta'].transform(lambda x: x.fillna(x.median()))\n",
    "\n",
    "# Variables muy correlacionadas y no usadas\n",
    "var_corr = ['Tamano_vivienda_personas', 'Superficie_distrito_ha', 'Edad_media', 'Renta_neta_persona',\n",
    "            'Renta_neta_hogar', 'Renta_bruta_persona', 'Renta_bruta_hogar', 'Precio_predicho']\n",
    "\n",
    "df = df.drop(columns=var_corr)\n",
    "\n",
    "print('Columnas restantes:', df.columns.to_list())"
   ]
  },
  {
   "cell_type": "markdown",
   "id": "9ec48cdb",
   "metadata": {},
   "source": [
    "### 2. Transformar variables categóricas\n",
    "\n",
    "Se deben pasar las variables categóricas a numéricas para poder procesarlas correctamente con los modelos. Las tres variables categóricas son `Distrito`, `Operacion` y `Tipo_vivienda`. Como no son variables que tengan jerarquía, usaremos dummies para transformarlas."
   ]
  },
  {
   "cell_type": "code",
   "execution_count": 9,
   "id": "37772215",
   "metadata": {},
   "outputs": [
    {
     "name": "stdout",
     "output_type": "stream",
     "text": [
      "Index(['Ano', 'Esperanza_vida', 'Mayores_65anos%', 'Menores_18anos%',\n",
      "       'Paro_registrado%', 'Apartamentos_turisticos', 'Densidad_poblacion',\n",
      "       'Zonas_verdes%', 'Habitaciones', 'Tamano', 'Garaje', 'Trastero',\n",
      "       'Piscina', 'Terraza', 'Planta', 'Exterior', 'Ascensor', 'Banos',\n",
      "       'Precio_ajustado', 'Planta_is_missing', 'Distrito_BARAJAS',\n",
      "       'Distrito_CARABANCHEL', 'Distrito_CENTRO', 'Distrito_CHAMARTIN',\n",
      "       'Distrito_CHAMBERI', 'Distrito_CIUDADLINEAL',\n",
      "       'Distrito_FUENCARRALELPARDO', 'Distrito_HORTALEZA', 'Distrito_LATINA',\n",
      "       'Distrito_MONCLOAARAVACA', 'Distrito_MORATALAZ',\n",
      "       'Distrito_PUENTEDEVALLECAS', 'Distrito_RETIRO', 'Distrito_SALAMANCA',\n",
      "       'Distrito_SANBLASCANILLEJAS', 'Distrito_TETUAN', 'Distrito_USERA',\n",
      "       'Distrito_VICALVARO', 'Distrito_VILLADEVALLECAS', 'Distrito_VILLAVERDE',\n",
      "       'Operacion_venta', 'Tipo_vivienda_chalet', 'Tipo_vivienda_dúplex',\n",
      "       'Tipo_vivienda_estudio', 'Tipo_vivienda_loft', 'Tipo_vivienda_mansión',\n",
      "       'Tipo_vivienda_tríplex', 'Tipo_vivienda_ático'],\n",
      "      dtype='object')\n"
     ]
    }
   ],
   "source": [
    "df = pd.get_dummies(df, drop_first=True)\n",
    "\n",
    "print(df.columns)"
   ]
  },
  {
   "cell_type": "markdown",
   "id": "cefd3bb6",
   "metadata": {},
   "source": [
    "### 3. Dividir en entrenamiento, validación y test\n",
    "\n",
    "**DECIDIR Y MODIFICAR - No se puede usar 2023 y 2024 para test o validación porque no tenemos variables input! Solo se pueden usar esos años para evaluar manualmente.**\n",
    "\n",
    "Escogeremos años de 2015 a 2022 (ambos inclusive) para entrenamiento; año 2023 para validación; y año 2024 para test. Como se trata de una serie temporal, haremos la separación directamente en base a los años."
   ]
  },
  {
   "cell_type": "code",
   "execution_count": null,
   "id": "e21ea1de",
   "metadata": {},
   "outputs": [],
   "source": [
    "train_mask = (df['Ano'] >= 2015) & (df['Ano'] <= 2022)\n",
    "val_mask = df['Ano'] == 2023\n",
    "test_mask = df['Ano'] == 2024"
   ]
  },
  {
   "cell_type": "markdown",
   "id": "3a16c79b",
   "metadata": {},
   "source": [
    "### 3. Preparar un pipeline de datos\n",
    "\n",
    "Se utilizará un pipeline para facilitar el manejo de datos y evitar fugas. Para ello, elegimos un escalado robusto para procesar mejor los outliers; y un modelo para entrenar."
   ]
  },
  {
   "cell_type": "code",
   "execution_count": 12,
   "id": "4905babf",
   "metadata": {},
   "outputs": [],
   "source": [
    "def definir_pipeline(modelo) -> Pipeline:\n",
    "    \"\"\"\n",
    "    Función para aplicar escalado y decidir el modelo que se usará.\n",
    "    \n",
    "    Parameters\n",
    "    ----------\n",
    "    modelo : KNN, XGBoost, MLP...\n",
    "        Se pueden incluir los parámetros manualmente dentro del modelo.\n",
    "    \n",
    "    Returns\n",
    "    ----------\n",
    "        pipeline\n",
    "    \"\"\"\n",
    "\n",
    "    pipeline = Pipeline([\n",
    "        ('scaler', RobustScaler()),\n",
    "        ('modelo', modelo)\n",
    "    ])\n",
    "\n",
    "    return pipeline"
   ]
  },
  {
   "cell_type": "markdown",
   "id": "b7c54b76",
   "metadata": {},
   "source": [
    "**Faltaría a partir de aquí elegir modelos (recomendado por lo menos: baseline con un modelo linear o de distancias; un modelo de árboles; y un MLP). Se puede hacer optimización inteligente con Optuna. Validación para hacer pruebas, test cuando ya se haya optimizado lo posible.**"
   ]
  }
 ],
 "metadata": {
  "kernelspec": {
   "display_name": "TFM (3.12.9)",
   "language": "python",
   "name": "python3"
  },
  "language_info": {
   "codemirror_mode": {
    "name": "ipython",
    "version": 3
   },
   "file_extension": ".py",
   "mimetype": "text/x-python",
   "name": "python",
   "nbconvert_exporter": "python",
   "pygments_lexer": "ipython3",
   "version": "3.12.9"
  }
 },
 "nbformat": 4,
 "nbformat_minor": 5
}
