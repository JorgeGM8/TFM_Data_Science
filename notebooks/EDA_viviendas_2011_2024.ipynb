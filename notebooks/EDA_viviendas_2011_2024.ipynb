{
 "cells": [
  {
   "cell_type": "markdown",
   "id": "0c6e8a89",
   "metadata": {},
   "source": [
    "## EDA"
   ]
  },
  {
   "cell_type": "code",
   "execution_count": 1,
   "id": "bd938f0b",
   "metadata": {},
   "outputs": [],
   "source": [
    "import pandas as pd\n",
    "df = pd.read_csv(\"../data/final/viviendas_2011_2024.csv\")"
   ]
  },
  {
   "cell_type": "code",
   "execution_count": 2,
   "id": "3d0a9415",
   "metadata": {},
   "outputs": [
    {
     "data": {
      "text/html": [
       "<div>\n",
       "<style scoped>\n",
       "    .dataframe tbody tr th:only-of-type {\n",
       "        vertical-align: middle;\n",
       "    }\n",
       "\n",
       "    .dataframe tbody tr th {\n",
       "        vertical-align: top;\n",
       "    }\n",
       "\n",
       "    .dataframe thead th {\n",
       "        text-align: right;\n",
       "    }\n",
       "</style>\n",
       "<table border=\"1\" class=\"dataframe\">\n",
       "  <thead>\n",
       "    <tr style=\"text-align: right;\">\n",
       "      <th></th>\n",
       "      <th>Ano</th>\n",
       "      <th>Distrito</th>\n",
       "      <th>Esperanza_vida</th>\n",
       "      <th>Renta_neta_persona</th>\n",
       "      <th>Renta_neta_hogar</th>\n",
       "      <th>Renta_bruta_persona</th>\n",
       "      <th>Renta_bruta_hogar</th>\n",
       "      <th>Edad_media</th>\n",
       "      <th>Mayores_65anos%</th>\n",
       "      <th>Menores_18anos%</th>\n",
       "      <th>...</th>\n",
       "      <th>Terraza</th>\n",
       "      <th>Planta</th>\n",
       "      <th>Exterior</th>\n",
       "      <th>Ascensor</th>\n",
       "      <th>Ano_construccion</th>\n",
       "      <th>Ano_reforma</th>\n",
       "      <th>Tipo_vivienda</th>\n",
       "      <th>Banos</th>\n",
       "      <th>Precio_predicho</th>\n",
       "      <th>Precio_ajustado</th>\n",
       "    </tr>\n",
       "  </thead>\n",
       "  <tbody>\n",
       "    <tr>\n",
       "      <th>0</th>\n",
       "      <td>2011</td>\n",
       "      <td>CENTRO</td>\n",
       "      <td>83.2</td>\n",
       "      <td>NaN</td>\n",
       "      <td>NaN</td>\n",
       "      <td>NaN</td>\n",
       "      <td>NaN</td>\n",
       "      <td>NaN</td>\n",
       "      <td>NaN</td>\n",
       "      <td>NaN</td>\n",
       "      <td>...</td>\n",
       "      <td>False</td>\n",
       "      <td>0.0</td>\n",
       "      <td>False</td>\n",
       "      <td>False</td>\n",
       "      <td>NaN</td>\n",
       "      <td>NaN</td>\n",
       "      <td>apartamento</td>\n",
       "      <td>1</td>\n",
       "      <td>672.875811</td>\n",
       "      <td>657.471490</td>\n",
       "    </tr>\n",
       "    <tr>\n",
       "      <th>1</th>\n",
       "      <td>2011</td>\n",
       "      <td>CENTRO</td>\n",
       "      <td>83.2</td>\n",
       "      <td>NaN</td>\n",
       "      <td>NaN</td>\n",
       "      <td>NaN</td>\n",
       "      <td>NaN</td>\n",
       "      <td>NaN</td>\n",
       "      <td>NaN</td>\n",
       "      <td>NaN</td>\n",
       "      <td>...</td>\n",
       "      <td>False</td>\n",
       "      <td>5.0</td>\n",
       "      <td>True</td>\n",
       "      <td>True</td>\n",
       "      <td>NaN</td>\n",
       "      <td>NaN</td>\n",
       "      <td>apartamento</td>\n",
       "      <td>1</td>\n",
       "      <td>923.555035</td>\n",
       "      <td>894.792822</td>\n",
       "    </tr>\n",
       "    <tr>\n",
       "      <th>2</th>\n",
       "      <td>2011</td>\n",
       "      <td>CENTRO</td>\n",
       "      <td>83.2</td>\n",
       "      <td>NaN</td>\n",
       "      <td>NaN</td>\n",
       "      <td>NaN</td>\n",
       "      <td>NaN</td>\n",
       "      <td>NaN</td>\n",
       "      <td>NaN</td>\n",
       "      <td>NaN</td>\n",
       "      <td>...</td>\n",
       "      <td>False</td>\n",
       "      <td>3.0</td>\n",
       "      <td>True</td>\n",
       "      <td>True</td>\n",
       "      <td>1910.0</td>\n",
       "      <td>NaN</td>\n",
       "      <td>apartamento</td>\n",
       "      <td>2</td>\n",
       "      <td>1424.913483</td>\n",
       "      <td>1434.552312</td>\n",
       "    </tr>\n",
       "    <tr>\n",
       "      <th>3</th>\n",
       "      <td>2011</td>\n",
       "      <td>CENTRO</td>\n",
       "      <td>83.2</td>\n",
       "      <td>NaN</td>\n",
       "      <td>NaN</td>\n",
       "      <td>NaN</td>\n",
       "      <td>NaN</td>\n",
       "      <td>NaN</td>\n",
       "      <td>NaN</td>\n",
       "      <td>NaN</td>\n",
       "      <td>...</td>\n",
       "      <td>False</td>\n",
       "      <td>4.0</td>\n",
       "      <td>True</td>\n",
       "      <td>True</td>\n",
       "      <td>NaN</td>\n",
       "      <td>NaN</td>\n",
       "      <td>apartamento</td>\n",
       "      <td>1</td>\n",
       "      <td>2240.808388</td>\n",
       "      <td>2335.359589</td>\n",
       "    </tr>\n",
       "    <tr>\n",
       "      <th>4</th>\n",
       "      <td>2011</td>\n",
       "      <td>CENTRO</td>\n",
       "      <td>83.2</td>\n",
       "      <td>NaN</td>\n",
       "      <td>NaN</td>\n",
       "      <td>NaN</td>\n",
       "      <td>NaN</td>\n",
       "      <td>NaN</td>\n",
       "      <td>NaN</td>\n",
       "      <td>NaN</td>\n",
       "      <td>...</td>\n",
       "      <td>False</td>\n",
       "      <td>3.0</td>\n",
       "      <td>True</td>\n",
       "      <td>True</td>\n",
       "      <td>1940.0</td>\n",
       "      <td>NaN</td>\n",
       "      <td>apartamento</td>\n",
       "      <td>1</td>\n",
       "      <td>1583.237203</td>\n",
       "      <td>1571.481771</td>\n",
       "    </tr>\n",
       "  </tbody>\n",
       "</table>\n",
       "<p>5 rows × 32 columns</p>\n",
       "</div>"
      ],
      "text/plain": [
       "    Ano Distrito  Esperanza_vida  Renta_neta_persona  Renta_neta_hogar  \\\n",
       "0  2011   CENTRO            83.2                 NaN               NaN   \n",
       "1  2011   CENTRO            83.2                 NaN               NaN   \n",
       "2  2011   CENTRO            83.2                 NaN               NaN   \n",
       "3  2011   CENTRO            83.2                 NaN               NaN   \n",
       "4  2011   CENTRO            83.2                 NaN               NaN   \n",
       "\n",
       "   Renta_bruta_persona  Renta_bruta_hogar  Edad_media  Mayores_65anos%  \\\n",
       "0                  NaN                NaN         NaN              NaN   \n",
       "1                  NaN                NaN         NaN              NaN   \n",
       "2                  NaN                NaN         NaN              NaN   \n",
       "3                  NaN                NaN         NaN              NaN   \n",
       "4                  NaN                NaN         NaN              NaN   \n",
       "\n",
       "   Menores_18anos%  ...  Terraza  Planta  Exterior  Ascensor  \\\n",
       "0              NaN  ...    False     0.0     False     False   \n",
       "1              NaN  ...    False     5.0      True      True   \n",
       "2              NaN  ...    False     3.0      True      True   \n",
       "3              NaN  ...    False     4.0      True      True   \n",
       "4              NaN  ...    False     3.0      True      True   \n",
       "\n",
       "   Ano_construccion  Ano_reforma  Tipo_vivienda Banos  Precio_predicho  \\\n",
       "0               NaN          NaN    apartamento     1       672.875811   \n",
       "1               NaN          NaN    apartamento     1       923.555035   \n",
       "2            1910.0          NaN    apartamento     2      1424.913483   \n",
       "3               NaN          NaN    apartamento     1      2240.808388   \n",
       "4            1940.0          NaN    apartamento     1      1583.237203   \n",
       "\n",
       "   Precio_ajustado  \n",
       "0       657.471490  \n",
       "1       894.792822  \n",
       "2      1434.552312  \n",
       "3      2335.359589  \n",
       "4      1571.481771  \n",
       "\n",
       "[5 rows x 32 columns]"
      ]
     },
     "execution_count": 2,
     "metadata": {},
     "output_type": "execute_result"
    }
   ],
   "source": [
    "df.head()              "
   ]
  },
  {
   "cell_type": "code",
   "execution_count": 3,
   "id": "6223b9d2",
   "metadata": {},
   "outputs": [
    {
     "name": "stdout",
     "output_type": "stream",
     "text": [
      "<class 'pandas.core.frame.DataFrame'>\n",
      "RangeIndex: 209216 entries, 0 to 209215\n",
      "Data columns (total 32 columns):\n",
      " #   Column                    Non-Null Count   Dtype  \n",
      "---  ------                    --------------   -----  \n",
      " 0   Ano                       209216 non-null  int64  \n",
      " 1   Distrito                  209216 non-null  object \n",
      " 2   Esperanza_vida            209216 non-null  float64\n",
      " 3   Renta_neta_persona        119552 non-null  float64\n",
      " 4   Renta_neta_hogar          119552 non-null  float64\n",
      " 5   Renta_bruta_persona       119552 non-null  float64\n",
      " 6   Renta_bruta_hogar         119552 non-null  float64\n",
      " 7   Edad_media                119552 non-null  float64\n",
      " 8   Mayores_65anos%           119552 non-null  float64\n",
      " 9   Menores_18anos%           119552 non-null  float64\n",
      " 10  Tamano_vivienda_personas  119552 non-null  float64\n",
      " 11  Paro_registrado%          119552 non-null  float64\n",
      " 12  Apartamentos_turisticos   149440 non-null  float64\n",
      " 13  Superficie_distrito_ha    209216 non-null  float64\n",
      " 14  Densidad_poblacion        119552 non-null  float64\n",
      " 15  Zonas_verdes%             209216 non-null  float64\n",
      " 16  Habitaciones              209216 non-null  int64  \n",
      " 17  Operacion                 209216 non-null  object \n",
      " 18  Tamano                    209216 non-null  float64\n",
      " 19  Garaje                    209216 non-null  bool   \n",
      " 20  Trastero                  209216 non-null  bool   \n",
      " 21  Piscina                   209216 non-null  bool   \n",
      " 22  Terraza                   209216 non-null  bool   \n",
      " 23  Planta                    190134 non-null  float64\n",
      " 24  Exterior                  209216 non-null  bool   \n",
      " 25  Ascensor                  209216 non-null  bool   \n",
      " 26  Ano_construccion          4634 non-null    float64\n",
      " 27  Ano_reforma               854 non-null     float64\n",
      " 28  Tipo_vivienda             209216 non-null  object \n",
      " 29  Banos                     209216 non-null  int64  \n",
      " 30  Precio_predicho           209216 non-null  float64\n",
      " 31  Precio_ajustado           209216 non-null  float64\n",
      "dtypes: bool(6), float64(20), int64(3), object(3)\n",
      "memory usage: 42.7+ MB\n"
     ]
    }
   ],
   "source": [
    "df.info() "
   ]
  },
  {
   "cell_type": "markdown",
   "id": "42cbf32c",
   "metadata": {},
   "source": [
    "* Variables socioeconómicas (119.552 valores, no todos completos):\n",
    "Renta_neta_persona, Renta_bruta_hogar, Edad_media, % Mayores_65, % Menores_18, Paro_registrado%, etc.\n",
    "Hay ~90.000 valores faltantes en estas columnas.\n",
    "\n",
    "* Variables urbanísticas:\n",
    "Superficie_distrito_ha, Densidad_poblacion, Zonas_verdes%.\n",
    "\n",
    "* Características de la vivienda:\n",
    "Habitaciones, Baños, Tamaño, Garaje, Piscina, Trastero, Terraza, Ascensor, Exterior, Planta.\n",
    "Aquí prácticamente no hay valores nulos (salvo Planta con ~19k nulos).\n",
    "\n",
    "* Variables temporales:\n",
    "Año, Ano_construccion (muchos nulos), Ano_reforma (casi todo nulo).\n",
    "\n",
    "* Variables de precio:\n",
    "Precio_predicho y Precio_ajustado (variable más importante a analizar)."
   ]
  },
  {
   "cell_type": "code",
   "execution_count": 4,
   "id": "012ffd2a",
   "metadata": {},
   "outputs": [
    {
     "data": {
      "text/plain": [
       "Ano_reforma                 208362\n",
       "Ano_construccion            204582\n",
       "Renta_neta_persona           89664\n",
       "Renta_bruta_hogar            89664\n",
       "Edad_media                   89664\n",
       "Tamano_vivienda_personas     89664\n",
       "Renta_bruta_persona          89664\n",
       "Renta_neta_hogar             89664\n",
       "Densidad_poblacion           89664\n",
       "Paro_registrado%             89664\n",
       "Menores_18anos%              89664\n",
       "Mayores_65anos%              89664\n",
       "Apartamentos_turisticos      59776\n",
       "Planta                       19082\n",
       "Distrito                         0\n",
       "Esperanza_vida                   0\n",
       "Zonas_verdes%                    0\n",
       "Superficie_distrito_ha           0\n",
       "Ano                              0\n",
       "Habitaciones                     0\n",
       "Garaje                           0\n",
       "Trastero                         0\n",
       "Tamano                           0\n",
       "Operacion                        0\n",
       "Terraza                          0\n",
       "Piscina                          0\n",
       "Ascensor                         0\n",
       "Exterior                         0\n",
       "Tipo_vivienda                    0\n",
       "Banos                            0\n",
       "Precio_predicho                  0\n",
       "Precio_ajustado                  0\n",
       "dtype: int64"
      ]
     },
     "execution_count": 4,
     "metadata": {},
     "output_type": "execute_result"
    }
   ],
   "source": [
    "# Columnas que faltan mas datos\n",
    "df.isna().sum().sort_values(ascending=False)"
   ]
  },
  {
   "cell_type": "code",
   "execution_count": 5,
   "id": "b00621e6",
   "metadata": {},
   "outputs": [
    {
     "data": {
      "text/plain": [
       "Ano_reforma                 99.591809\n",
       "Ano_construccion            97.785064\n",
       "Renta_neta_persona          42.857143\n",
       "Renta_bruta_hogar           42.857143\n",
       "Edad_media                  42.857143\n",
       "Tamano_vivienda_personas    42.857143\n",
       "Renta_bruta_persona         42.857143\n",
       "Renta_neta_hogar            42.857143\n",
       "Densidad_poblacion          42.857143\n",
       "Paro_registrado%            42.857143\n",
       "Menores_18anos%             42.857143\n",
       "Mayores_65anos%             42.857143\n",
       "Apartamentos_turisticos     28.571429\n",
       "Planta                       9.120717\n",
       "Distrito                     0.000000\n",
       "Esperanza_vida               0.000000\n",
       "Zonas_verdes%                0.000000\n",
       "Superficie_distrito_ha       0.000000\n",
       "Ano                          0.000000\n",
       "Habitaciones                 0.000000\n",
       "Garaje                       0.000000\n",
       "Trastero                     0.000000\n",
       "Tamano                       0.000000\n",
       "Operacion                    0.000000\n",
       "Terraza                      0.000000\n",
       "Piscina                      0.000000\n",
       "Ascensor                     0.000000\n",
       "Exterior                     0.000000\n",
       "Tipo_vivienda                0.000000\n",
       "Banos                        0.000000\n",
       "Precio_predicho              0.000000\n",
       "Precio_ajustado              0.000000\n",
       "dtype: float64"
      ]
     },
     "execution_count": 5,
     "metadata": {},
     "output_type": "execute_result"
    }
   ],
   "source": [
    "(df.isna().mean()*100).sort_values(ascending=False)"
   ]
  },
  {
   "cell_type": "markdown",
   "id": "b71aa26a",
   "metadata": {},
   "source": [
    "**Altos porcentajes de nulos**\n",
    "\n",
    "- Ano_reforma: 208k nulos, casi todo el dataset.\n",
    "Esta variable probablemente no sea útil, salvo que se quiera analizar reformas puntuales. Podría eliminarse o imputarse como \"Sin reforma\".\n",
    "\n",
    "- Ano_construccion: 204k nulos, muchos faltantes.\n",
    "Similar al anterior, puede usarse parcialmente o imputarse con alguna media/mediana por distrito."
   ]
  },
  {
   "cell_type": "markdown",
   "id": "f7d5a85f",
   "metadata": {},
   "source": [
    "**Bloque socioeconómico (~90k nulos cada uno):**\n",
    "\n",
    "- Tamano_vivienda_personas, Densidad_poblacion, Renta_neta_persona, Renta_bruta_hogar, Edad_media, % Mayores_65, % Menores_18, Paro_registrado%.\n",
    "Aquí parece que solo hay datos para ciertos distritos o años, habría que analizar si se concentran en un periodo específico o en distritos concretos."
   ]
  },
  {
   "cell_type": "markdown",
   "id": "3145d7a4",
   "metadata": {},
   "source": [
    "**Variables urbanísticas / de contexto**\n",
    "\n",
    "- Apartamentos_turisticos: ~59k nulos\n",
    "\n",
    "- Planta: ~19k nulos. Podría imputarse como “desconocido” o ignorarse."
   ]
  },
  {
   "cell_type": "code",
   "execution_count": 6,
   "id": "8cdda664",
   "metadata": {},
   "outputs": [
    {
     "data": {
      "text/plain": [
       "Ano_reforma                 99.591809\n",
       "Ano_construccion            97.785064\n",
       "Planta                       9.120717\n",
       "Ano                          0.000000\n",
       "Renta_neta_hogar             0.000000\n",
       "Distrito                     0.000000\n",
       "Esperanza_vida               0.000000\n",
       "Renta_neta_persona           0.000000\n",
       "Mayores_65anos%              0.000000\n",
       "Menores_18anos%              0.000000\n",
       "Tamano_vivienda_personas     0.000000\n",
       "Paro_registrado%             0.000000\n",
       "Apartamentos_turisticos      0.000000\n",
       "Renta_bruta_persona          0.000000\n",
       "Renta_bruta_hogar            0.000000\n",
       "Edad_media                   0.000000\n",
       "Zonas_verdes%                0.000000\n",
       "Densidad_poblacion           0.000000\n",
       "Superficie_distrito_ha       0.000000\n",
       "Habitaciones                 0.000000\n",
       "Garaje                       0.000000\n",
       "Trastero                     0.000000\n",
       "Tamano                       0.000000\n",
       "Operacion                    0.000000\n",
       "Terraza                      0.000000\n",
       "Piscina                      0.000000\n",
       "Ascensor                     0.000000\n",
       "Exterior                     0.000000\n",
       "Tipo_vivienda                0.000000\n",
       "Banos                        0.000000\n",
       "Precio_predicho              0.000000\n",
       "Precio_ajustado              0.000000\n",
       "dtype: float64"
      ]
     },
     "execution_count": 6,
     "metadata": {},
     "output_type": "execute_result"
    }
   ],
   "source": [
    "(df[(df['Ano'] >= 2015) & (df['Ano'] <= 2022)].isna().mean()*100).sort_values(ascending=False)"
   ]
  },
  {
   "cell_type": "markdown",
   "id": "e73af212",
   "metadata": {},
   "source": [
    "Entre los años 2015 y 2022 no hay nulos de variables socioeconómicas, por lo que se usará para el entrenamiento de modelos."
   ]
  },
  {
   "cell_type": "markdown",
   "id": "5c6f9f39",
   "metadata": {},
   "source": [
    "### Columnas Ano_construccion y Ano_reforma\n",
    "\n",
    "Existen más del 95% de nulos en ambas columnas, por lo que imputarlos no sería útil. Por tanto, se eliminan del dataset."
   ]
  },
  {
   "cell_type": "code",
   "execution_count": 7,
   "id": "0a088f35",
   "metadata": {},
   "outputs": [],
   "source": [
    "df = df.drop(columns=['Ano_construccion', 'Ano_reforma'])"
   ]
  },
  {
   "cell_type": "markdown",
   "id": "6b930e93",
   "metadata": {},
   "source": [
    "### Outliers en variables numéricas\n",
    "Validación de outliers por tipo de operación"
   ]
  },
  {
   "cell_type": "code",
   "execution_count": 8,
   "id": "dd308b4d",
   "metadata": {},
   "outputs": [
    {
     "name": "stdout",
     "output_type": "stream",
     "text": [
      "\n",
      "--- ALQUILER ---\n",
      "Registros totales: 80584\n",
      "Outliers detectados: 5710\n",
      "Rango aceptado: -373.67 - 2723.72\n"
     ]
    },
    {
     "data": {
      "image/png": "[encoded data removed]",
      "text/plain": [
       "<Figure size 800x500 with 1 Axes>"
      ]
     },
     "metadata": {},
     "output_type": "display_data"
    },
    {
     "name": "stdout",
     "output_type": "stream",
     "text": [
      "\n",
      "--- VENTA ---\n",
      "Registros totales: 128632\n",
      "Outliers detectados: 9803\n",
      "Rango aceptado: -386384.39 - 1063657.11\n"
     ]
    },
    {
     "data": {
      "image/png": "[encoded data removed]",
      "text/plain": [
       "<Figure size 800x500 with 1 Axes>"
      ]
     },
     "metadata": {},
     "output_type": "display_data"
    }
   ],
   "source": [
    "import seaborn as sns\n",
    "import matplotlib.pyplot as plt\n",
    "\n",
    "def detectar_outliers(col, subset):\n",
    "    q1 = subset[col].quantile(0.25)\n",
    "    q3 = subset[col].quantile(0.75)\n",
    "    iqr = q3 - q1\n",
    "    low  = q1 - 1.5*iqr\n",
    "    high = q3 + 1.5*iqr\n",
    "    outliers = subset[(subset[col] < low) | (subset[col] > high)]\n",
    "    return outliers, low, high\n",
    "\n",
    "# Separar por operación\n",
    "for oper in df[\"Operacion\"].unique():\n",
    "    subset = df[df[\"Operacion\"] == oper]\n",
    "    outliers, low, high = detectar_outliers(\"Precio_ajustado\", subset)\n",
    "\n",
    "    print(f\"\\n--- {oper.upper()} ---\")\n",
    "    print(f\"Registros totales: {subset.shape[0]}\")\n",
    "    print(f\"Outliers detectados: {outliers.shape[0]}\")\n",
    "    print(f\"Rango aceptado: {low:.2f} - {high:.2f}\")\n",
    "\n",
    "    # Visualización\n",
    "    plt.figure(figsize=(8,5))\n",
    "    sns.boxplot(x=subset[\"Precio_ajustado\"])\n",
    "    plt.title(f\"Boxplot Precio Ajustado - {oper}\")\n",
    "    plt.show()"
   ]
  },
  {
   "cell_type": "markdown",
   "id": "6f5efd51",
   "metadata": {},
   "source": [
    "**Conclusión sobre Precio_ajustado en alquiler**\n",
    "\n",
    "- El rango intercuartílico (IQR) determina un intervalo de precios aceptado entre aproximadamente 0 € y 2.723 € al mes.\n",
    "- Se detectaron 5.710 outliers (≈ 7,1% del total de registros de alquiler).\n",
    "- También se observa que el límite inferior calculado fue negativo (-373 €), lo cual no tiene sentido en un alquiler → se interpreta como un efecto del método IQR en datos sesgados."
   ]
  },
  {
   "cell_type": "markdown",
   "id": "4dd8e4fe",
   "metadata": {},
   "source": [
    "**Conclusión sobre Precio_ajustado en venta**\n",
    "\n",
    "- El rango intercuartílico (IQR) establece un intervalo de precios aceptado entre 0 € y ~1.064.000 €.\n",
    "- Se detectaron 9.803 outliers (≈ 7,6% de los registros de venta).\n",
    "- El límite inferior calculado es negativo (-386.384 €), lo cual no tiene sentido → se interpreta como efecto del IQR con distribución muy sesgada.\n",
    "- Se observan precios extremos que superan los 10 millones de euros (hasta ~12 millones), que muy probablemente corresponden a propiedades excepcionales que distorsionan el análisis general."
   ]
  },
  {
   "cell_type": "markdown",
   "id": "9ac094b0",
   "metadata": {},
   "source": [
    "### Tratamiento de los outliers de alquiler\n",
    "\n",
    "- Capado por percentiles (P1–P99) → creamos Precio_ajustado_cap.\n",
    "- Bandera de outlier → Precio_alquiler_outlier (1 si es outlier, 0 si no)."
   ]
  },
  {
   "cell_type": "code",
   "execution_count": 363,
   "id": "e0d8a1a9",
   "metadata": {},
   "outputs": [
    {
     "name": "stdout",
     "output_type": "stream",
     "text": [
      "Rango para capado (P1–P99): 121.11 - 15917.40\n",
      "Total outliers alquiler (flag=1): 1612\n",
      "  Operacion  Precio_ajustado  Precio_ajustado_cap  Precio_alquiler_outlier\n",
      "0  alquiler       273.451180           273.451180                        0\n",
      "1  alquiler       658.904151           658.904151                        0\n",
      "2  alquiler      1235.355920          1235.355920                        0\n",
      "3  alquiler      3824.713402          3824.713402                        0\n",
      "4  alquiler      2087.522735          2087.522735                        0\n",
      "5  alquiler       291.919561           291.919561                        0\n",
      "6  alquiler      1930.243625          1930.243625                        0\n",
      "7  alquiler       507.244195           507.244195                        0\n",
      "8  alquiler       627.924932           627.924932                        0\n",
      "9  alquiler       747.075773           747.075773                        0\n"
     ]
    }
   ],
   "source": [
    "# Filtrar solo alquiler\n",
    "alquiler = df[df[\"Operacion\"]==\"alquiler\"][\"Precio_ajustado\"]\n",
    "\n",
    "# 1) Definir percentiles P1 y P99\n",
    "p1 = alquiler.quantile(0.01)\n",
    "p99 = alquiler.quantile(0.99)\n",
    "\n",
    "print(f\"Rango para capado (P1–P99): {p1:.2f} - {p99:.2f}\")\n",
    "\n",
    "# 2) Crear columna capada\n",
    "df.loc[df[\"Operacion\"]==\"alquiler\", \"Precio_ajustado_cap\"] = \\\n",
    "    df.loc[df[\"Operacion\"]==\"alquiler\", \"Precio_ajustado\"].clip(lower=p1, upper=p99)\n",
    "\n",
    "# 3) Crear flag de outlier en alquiler\n",
    "df[\"Precio_alquiler_outlier\"] = 0\n",
    "df.loc[(df[\"Operacion\"]==\"alquiler\") & \n",
    "       ((df[\"Precio_ajustado\"] < p1) | (df[\"Precio_ajustado\"] > p99)), \n",
    "       \"Precio_alquiler_outlier\"] = 1\n",
    "\n",
    "# 4) Verificación\n",
    "print(\"Total outliers alquiler (flag=1):\", df[\"Precio_alquiler_outlier\"].sum())\n",
    "print(df[[\"Operacion\",\"Precio_ajustado\",\"Precio_ajustado_cap\",\"Precio_alquiler_outlier\"]].head(10))\n"
   ]
  },
  {
   "cell_type": "code",
   "execution_count": 364,
   "id": "face7435",
   "metadata": {},
   "outputs": [
    {
     "name": "stdout",
     "output_type": "stream",
     "text": [
      "Rango para capado (P1–P99): 22154.54 - 5931286.57\n",
      "Total outliers venta (flag=1): 2574\n",
      "     Precio_ajustado  Precio_ajustado_cap  Precio_venta_outlier\n",
      "438     3.295059e+05         3.295059e+05                     0\n",
      "439     3.893730e+05         3.893730e+05                     0\n",
      "440     1.020426e+06         1.020426e+06                     0\n",
      "441     7.745758e+05         7.745758e+05                     0\n",
      "442     2.846451e+05         2.846451e+05                     0\n",
      "443     1.028324e+06         1.028324e+06                     0\n",
      "444     1.000933e+06         1.000933e+06                     0\n",
      "445     7.745758e+05         7.745758e+05                     0\n",
      "446     2.846451e+05         2.846451e+05                     0\n",
      "447     5.054740e+05         5.054740e+05                     0\n"
     ]
    }
   ],
   "source": [
    "# Filtrar solo venta\n",
    "venta = df[df[\"Operacion\"]==\"venta\"][\"Precio_ajustado\"]\n",
    "\n",
    "# 1) Percentiles P1 y P99\n",
    "p1 = venta.quantile(0.01)\n",
    "p99 = venta.quantile(0.99)\n",
    "\n",
    "print(f\"Rango para capado (P1–P99): {p1:.2f} - {p99:.2f}\")\n",
    "\n",
    "# 2) Columna capada\n",
    "df.loc[df[\"Operacion\"]==\"venta\", \"Precio_ajustado_cap\"] = \\\n",
    "    df.loc[df[\"Operacion\"]==\"venta\", \"Precio_ajustado\"].clip(lower=p1, upper=p99)\n",
    "\n",
    "# 3) Flag de outlier\n",
    "df[\"Precio_venta_outlier\"] = 0\n",
    "df.loc[(df[\"Operacion\"]==\"venta\") & \n",
    "       ((df[\"Precio_ajustado\"] < p1) | (df[\"Precio_ajustado\"] > p99)),\n",
    "       \"Precio_venta_outlier\"] = 1\n",
    "\n",
    "# 4) Verificación\n",
    "print(\"Total outliers venta (flag=1):\", df[\"Precio_venta_outlier\"].sum())\n",
    "print(df[df[\"Operacion\"]==\"venta\"][[\"Precio_ajustado\",\"Precio_ajustado_cap\",\"Precio_venta_outlier\"]].head(10))\n"
   ]
  },
  {
   "cell_type": "markdown",
   "id": "17cac081",
   "metadata": {},
   "source": [
    "### Comprobación adicional del dataset"
   ]
  },
  {
   "cell_type": "code",
   "execution_count": 365,
   "id": "fa9aec9c",
   "metadata": {},
   "outputs": [
    {
     "name": "stdout",
     "output_type": "stream",
     "text": [
      "Nulos totales por columna (top 15):\n",
      "Planta                         19082\n",
      "Densidad_poblacion_na              0\n",
      "Ascensor                           0\n",
      "Ano_construccion                   0\n",
      "Ano_reforma                        0\n",
      "Tipo_vivienda                      0\n",
      "Banos                              0\n",
      "Precio_predicho                    0\n",
      "Precio_ajustado                    0\n",
      "Tamano_vivienda_personas_na        0\n",
      "Paro_registrado%_na                0\n",
      "Renta_neta_persona_na              0\n",
      "Distrito                           0\n",
      "Renta_neta_hogar_na                0\n",
      "Renta_bruta_persona_na             0\n",
      "dtype: int64\n"
     ]
    }
   ],
   "source": [
    "# Revisión de nulos\n",
    "\n",
    "print(\"Nulos totales por columna (top 15):\")\n",
    "print(df.isna().sum().sort_values(ascending=False).head(15))"
   ]
  },
  {
   "cell_type": "code",
   "execution_count": 366,
   "id": "3ddfaa8a",
   "metadata": {},
   "outputs": [
    {
     "name": "stdout",
     "output_type": "stream",
     "text": [
      "Nulos en Planta: 0\n",
      "    Planta  Planta_na\n",
      "0        0          0\n",
      "1        5          0\n",
      "2        3          0\n",
      "3        4          0\n",
      "4        3          0\n",
      "5        4          0\n",
      "6        2          0\n",
      "7        6          0\n",
      "8        3          0\n",
      "9        3          0\n",
      "10       1          0\n",
      "11       0          0\n",
      "12       3          0\n",
      "13       4          0\n",
      "14       2          0\n"
     ]
    }
   ],
   "source": [
    "# Crear bandera de nulos antes de imputar\n",
    "df[\"Planta_na\"] = df[\"Planta\"].isna().astype(int)\n",
    "\n",
    "# Calcular la mediana de Planta por distrito\n",
    "medianas = df.groupby(\"Distrito\")[\"Planta\"].transform(\"median\")\n",
    "\n",
    "# Imputar nulos en la misma columna Planta\n",
    "df[\"Planta\"] = df[\"Planta\"].fillna(medianas)\n",
    "\n",
    "# Convertir a entero (ya no debería haber decimales)\n",
    "df[\"Planta\"] = df[\"Planta\"].round().astype(int)\n",
    "\n",
    "# Verificación\n",
    "print(\"Nulos en Planta:\", df[\"Planta\"].isna().sum())\n",
    "print(df[[\"Planta\", \"Planta_na\"]].head(15))"
   ]
  },
  {
   "cell_type": "markdown",
   "id": "0086ca90",
   "metadata": {},
   "source": [
    "Tratamiento de la variable Planta\n",
    "\n",
    "- Se creó una columna auxiliar Planta_na para marcar los valores nulos.\n",
    "- Los nulos se imputaron con la mediana de planta por distrito, manteniendo coherencia según la zona.\n",
    "- La columna se convirtió a enteros para evitar decimales.\n",
    "- De esta forma se conservaron todos los registros y quedó trazabilidad de los valores impu"
   ]
  },
  {
   "cell_type": "code",
   "execution_count": 367,
   "id": "a328babd",
   "metadata": {},
   "outputs": [
    {
     "name": "stdout",
     "output_type": "stream",
     "text": [
      "Mínimo y máximo precio original: 36.52451050645265 98520485.59211302\n",
      "Mínimo y máximo precio capado: 121.11402015983276 5931286.566133556\n",
      "Registros con precio negativo: 0\n"
     ]
    }
   ],
   "source": [
    "# Variables de precios\n",
    "# Que no existan valores negativos.\n",
    "# Que la columna capada (Precio_ajustado_cap) esté correctamente creada.\n",
    "\n",
    "print(\"Mínimo y máximo precio original:\", df[\"Precio_ajustado\"].min(), df[\"Precio_ajustado\"].max())\n",
    "print(\"Mínimo y máximo precio capado:\", df[\"Precio_ajustado_cap\"].min(), df[\"Precio_ajustado_cap\"].max())\n",
    "\n",
    "print(\"Registros con precio negativo:\", (df[\"Precio_ajustado\"] < 0).sum())\n"
   ]
  },
  {
   "cell_type": "code",
   "execution_count": 368,
   "id": "77a516aa",
   "metadata": {},
   "outputs": [
    {
     "name": "stdout",
     "output_type": "stream",
     "text": [
      "Outliers alquiler: 1612\n",
      "Outliers venta: 2574\n"
     ]
    }
   ],
   "source": [
    "# Validación de outliers (banderas)\n",
    "\n",
    "print(\"Outliers alquiler:\", df[\"Precio_alquiler_outlier\"].sum())\n",
    "print(\"Outliers venta:\", df[\"Precio_venta_outlier\"].sum())\n"
   ]
  },
  {
   "cell_type": "code",
   "execution_count": 369,
   "id": "0dc636b1",
   "metadata": {},
   "outputs": [
    {
     "name": "stdout",
     "output_type": "stream",
     "text": [
      "Año máximo en datos: 2024\n",
      "Construcción fuera de rango: 98\n",
      "Reformas antes de construcción: 28\n"
     ]
    }
   ],
   "source": [
    "# Validación de años\n",
    "# Ningún Ano_construccion o Ano_reforma debería estar en el futuro.\n",
    "# Ano_reforma no puede ser menor que Ano_construccion.\n",
    "\n",
    "print(\"Año máximo en datos:\", df[\"Ano\"].max())\n",
    "print(\"Construcción fuera de rango:\", (df[\"Ano_construccion\"] > df[\"Ano\"].max()).sum())\n",
    "print(\"Reformas antes de construcción:\", (df[\"Ano_reforma\"] < df[\"Ano_construccion\"]).sum())"
   ]
  },
  {
   "cell_type": "markdown",
   "id": "881fb602",
   "metadata": {},
   "source": [
    "#### Corrección de inconsistencias en los años\n",
    "\n",
    "- Construcción fuera de rango (98 registros):\n",
    "Ano_construccion mayor que el año máximo disponible (Ano = 2024).\n",
    "\n",
    "- Reformas antes de construcción (28 registros):\n",
    "Ano_reforma < Ano_construccion, lo cual es imposible."
   ]
  },
  {
   "cell_type": "code",
   "execution_count": 370,
   "id": "adb1f371",
   "metadata": {},
   "outputs": [],
   "source": [
    "# Construcción fuera de rango\n",
    "# Imputar con mediana por distrito/año\n",
    "\n",
    "mask = df[\"Ano_construccion\"] > df[\"Ano\"]\n",
    "df.loc[mask, \"Ano_construccion\"] = df.loc[mask].groupby(\"Distrito\")[\"Ano_construccion\"].transform(\"median\")"
   ]
  },
  {
   "cell_type": "code",
   "execution_count": 371,
   "id": "080bc95a",
   "metadata": {},
   "outputs": [],
   "source": [
    "# Reformas antes de construcción\n",
    "# Igualar Ano_reforma al año de construcción.\n",
    "\n",
    "df.loc[df[\"Ano_reforma\"] < df[\"Ano_construccion\"], \"Ano_reforma\"] = df[\"Ano_construccion\"]\n"
   ]
  },
  {
   "cell_type": "code",
   "execution_count": 372,
   "id": "82002460",
   "metadata": {},
   "outputs": [
    {
     "name": "stdout",
     "output_type": "stream",
     "text": [
      "Año máximo en datos: 2024\n",
      "Construcción fuera de rango: 0\n",
      "Reformas antes de construcción: 0\n"
     ]
    }
   ],
   "source": [
    "# Validación\n",
    "\n",
    "print(\"Año máximo en datos:\", df[\"Ano\"].max())\n",
    "print(\"Construcción fuera de rango:\", (df[\"Ano_construccion\"] > df[\"Ano\"].max()).sum())\n",
    "print(\"Reformas antes de construcción:\", (df[\"Ano_reforma\"] < df[\"Ano_construccion\"]).sum())"
   ]
  },
  {
   "cell_type": "code",
   "execution_count": 373,
   "id": "729e0cd7",
   "metadata": {},
   "outputs": [
    {
     "name": "stdout",
     "output_type": "stream",
     "text": [
      "Operaciones únicas: ['alquiler' 'venta']\n",
      "Tipos de vivienda únicos: ['apartamento' 'estudio' 'ático' 'dúplex' 'loft' 'tríplex' 'chalet'\n",
      " 'mansión']\n",
      "Número de distritos: 21\n"
     ]
    }
   ],
   "source": [
    "# Revisión de variables categóricas\n",
    "\n",
    "print(\"Operaciones únicas:\", df[\"Operacion\"].unique())\n",
    "print(\"Tipos de vivienda únicos:\", df[\"Tipo_vivienda\"].unique()[:10])  # primeros 10\n",
    "print(\"Número de distritos:\", df[\"Distrito\"].nunique())"
   ]
  },
  {
   "cell_type": "code",
   "execution_count": 374,
   "id": "46a381f2",
   "metadata": {},
   "outputs": [
    {
     "name": "stdout",
     "output_type": "stream",
     "text": [
      "                                Tipo  Nulos  Nulos_%\n",
      "Ano                            int64      0      0.0\n",
      "Distrito                      object      0      0.0\n",
      "Esperanza_vida               float64      0      0.0\n",
      "Renta_neta_persona           float64      0      0.0\n",
      "Renta_neta_hogar             float64      0      0.0\n",
      "Renta_bruta_persona          float64      0      0.0\n",
      "Renta_bruta_hogar            float64      0      0.0\n",
      "Edad_media                   float64      0      0.0\n",
      "Mayores_65anos%              float64      0      0.0\n",
      "Menores_18anos%              float64      0      0.0\n",
      "Tamano_vivienda_personas     float64      0      0.0\n",
      "Paro_registrado%             float64      0      0.0\n",
      "Apartamentos_turisticos      float64      0      0.0\n",
      "Superficie_distrito_ha       float64      0      0.0\n",
      "Densidad_poblacion           float64      0      0.0\n",
      "Zonas_verdes%                float64      0      0.0\n",
      "Habitaciones                   int64      0      0.0\n",
      "Operacion                     object      0      0.0\n",
      "Tamano                       float64      0      0.0\n",
      "Garaje                          bool      0      0.0\n",
      "Trastero                        bool      0      0.0\n",
      "Piscina                         bool      0      0.0\n",
      "Terraza                         bool      0      0.0\n",
      "Planta                         int32      0      0.0\n",
      "Exterior                        bool      0      0.0\n",
      "Ascensor                        bool      0      0.0\n",
      "Ano_construccion               int32      0      0.0\n",
      "Ano_reforma                    int32      0      0.0\n",
      "Tipo_vivienda                 object      0      0.0\n",
      "Banos                          int64      0      0.0\n",
      "Precio_predicho              float64      0      0.0\n",
      "Precio_ajustado              float64      0      0.0\n",
      "Tamano_vivienda_personas_na    int32      0      0.0\n",
      "Paro_registrado%_na            int32      0      0.0\n",
      "Densidad_poblacion_na          int32      0      0.0\n",
      "Renta_neta_persona_na          int32      0      0.0\n",
      "Renta_neta_hogar_na            int32      0      0.0\n",
      "Renta_bruta_persona_na         int32      0      0.0\n",
      "Renta_bruta_hogar_na           int32      0      0.0\n",
      "Edad_media_na                  int32      0      0.0\n",
      "Mayores_65anos%_na             int32      0      0.0\n",
      "Menores_18anos%_na             int32      0      0.0\n",
      "Apartamentos_turisticos_na     int32      0      0.0\n",
      "Precio_ajustado_cap          float64      0      0.0\n",
      "Precio_alquiler_outlier        int64      0      0.0\n",
      "Precio_venta_outlier           int64      0      0.0\n",
      "Planta_na                      int32      0      0.0\n"
     ]
    }
   ],
   "source": [
    "resumen = pd.DataFrame({\n",
    "    \"Tipo\": df.dtypes,\n",
    "    \"Nulos\": df.isna().sum(),\n",
    "    \"Nulos_%\": (df.isna().mean()*100).round(2)\n",
    "})\n",
    "print(resumen)\n"
   ]
  },
  {
   "cell_type": "markdown",
   "id": "5769c176",
   "metadata": {},
   "source": [
    "## Estadísticos generales"
   ]
  },
  {
   "cell_type": "code",
   "execution_count": 375,
   "id": "73312325",
   "metadata": {},
   "outputs": [
    {
     "data": {
      "text/html": [
       "<div>\n",
       "<style scoped>\n",
       "    .dataframe tbody tr th:only-of-type {\n",
       "        vertical-align: middle;\n",
       "    }\n",
       "\n",
       "    .dataframe tbody tr th {\n",
       "        vertical-align: top;\n",
       "    }\n",
       "\n",
       "    .dataframe thead th {\n",
       "        text-align: right;\n",
       "    }\n",
       "</style>\n",
       "<table border=\"1\" class=\"dataframe\">\n",
       "  <thead>\n",
       "    <tr style=\"text-align: right;\">\n",
       "      <th></th>\n",
       "      <th>Operacion</th>\n",
       "      <th>alquiler</th>\n",
       "      <th>venta</th>\n",
       "    </tr>\n",
       "  </thead>\n",
       "  <tbody>\n",
       "    <tr>\n",
       "      <th rowspan=\"8\" valign=\"top\">Precio_ajustado_cap</th>\n",
       "      <th>count</th>\n",
       "      <td>80584.000000</td>\n",
       "      <td>1.286320e+05</td>\n",
       "    </tr>\n",
       "    <tr>\n",
       "      <th>mean</th>\n",
       "      <td>1378.268619</td>\n",
       "      <td>4.629104e+05</td>\n",
       "    </tr>\n",
       "    <tr>\n",
       "      <th>std</th>\n",
       "      <td>2278.561376</td>\n",
       "      <td>8.705706e+05</td>\n",
       "    </tr>\n",
       "    <tr>\n",
       "      <th>min</th>\n",
       "      <td>121.114020</td>\n",
       "      <td>2.215454e+04</td>\n",
       "    </tr>\n",
       "    <tr>\n",
       "      <th>25%</th>\n",
       "      <td>411.223647</td>\n",
       "      <td>8.487494e+04</td>\n",
       "    </tr>\n",
       "    <tr>\n",
       "      <th>50%</th>\n",
       "      <td>695.938194</td>\n",
       "      <td>1.716776e+05</td>\n",
       "    </tr>\n",
       "    <tr>\n",
       "      <th>75%</th>\n",
       "      <td>1264.306023</td>\n",
       "      <td>4.143593e+05</td>\n",
       "    </tr>\n",
       "    <tr>\n",
       "      <th>max</th>\n",
       "      <td>15917.403497</td>\n",
       "      <td>5.931287e+06</td>\n",
       "    </tr>\n",
       "    <tr>\n",
       "      <th rowspan=\"8\" valign=\"top\">Tamano</th>\n",
       "      <th>count</th>\n",
       "      <td>80584.000000</td>\n",
       "      <td>1.286320e+05</td>\n",
       "    </tr>\n",
       "    <tr>\n",
       "      <th>mean</th>\n",
       "      <td>97.656185</td>\n",
       "      <td>1.242762e+02</td>\n",
       "    </tr>\n",
       "    <tr>\n",
       "      <th>std</th>\n",
       "      <td>81.426916</td>\n",
       "      <td>1.113847e+02</td>\n",
       "    </tr>\n",
       "    <tr>\n",
       "      <th>min</th>\n",
       "      <td>10.000000</td>\n",
       "      <td>1.200000e+01</td>\n",
       "    </tr>\n",
       "    <tr>\n",
       "      <th>25%</th>\n",
       "      <td>57.000000</td>\n",
       "      <td>6.700000e+01</td>\n",
       "    </tr>\n",
       "    <tr>\n",
       "      <th>50%</th>\n",
       "      <td>78.000000</td>\n",
       "      <td>9.300000e+01</td>\n",
       "    </tr>\n",
       "    <tr>\n",
       "      <th>75%</th>\n",
       "      <td>110.000000</td>\n",
       "      <td>1.380000e+02</td>\n",
       "    </tr>\n",
       "    <tr>\n",
       "      <th>max</th>\n",
       "      <td>1300.000000</td>\n",
       "      <td>3.015000e+03</td>\n",
       "    </tr>\n",
       "    <tr>\n",
       "      <th rowspan=\"8\" valign=\"top\">Habitaciones</th>\n",
       "      <th>count</th>\n",
       "      <td>80584.000000</td>\n",
       "      <td>1.286320e+05</td>\n",
       "    </tr>\n",
       "    <tr>\n",
       "      <th>mean</th>\n",
       "      <td>2.148019</td>\n",
       "      <td>2.761646e+00</td>\n",
       "    </tr>\n",
       "    <tr>\n",
       "      <th>std</th>\n",
       "      <td>1.085629</td>\n",
       "      <td>1.274739e+00</td>\n",
       "    </tr>\n",
       "    <tr>\n",
       "      <th>min</th>\n",
       "      <td>1.000000</td>\n",
       "      <td>1.000000e+00</td>\n",
       "    </tr>\n",
       "    <tr>\n",
       "      <th>25%</th>\n",
       "      <td>1.000000</td>\n",
       "      <td>2.000000e+00</td>\n",
       "    </tr>\n",
       "    <tr>\n",
       "      <th>50%</th>\n",
       "      <td>2.000000</td>\n",
       "      <td>3.000000e+00</td>\n",
       "    </tr>\n",
       "    <tr>\n",
       "      <th>75%</th>\n",
       "      <td>3.000000</td>\n",
       "      <td>3.000000e+00</td>\n",
       "    </tr>\n",
       "    <tr>\n",
       "      <th>max</th>\n",
       "      <td>9.000000</td>\n",
       "      <td>1.600000e+01</td>\n",
       "    </tr>\n",
       "    <tr>\n",
       "      <th rowspan=\"8\" valign=\"top\">Banos</th>\n",
       "      <th>count</th>\n",
       "      <td>80584.000000</td>\n",
       "      <td>1.286320e+05</td>\n",
       "    </tr>\n",
       "    <tr>\n",
       "      <th>mean</th>\n",
       "      <td>1.094858</td>\n",
       "      <td>1.087288e+00</td>\n",
       "    </tr>\n",
       "    <tr>\n",
       "      <th>std</th>\n",
       "      <td>0.359091</td>\n",
       "      <td>3.796072e-01</td>\n",
       "    </tr>\n",
       "    <tr>\n",
       "      <th>min</th>\n",
       "      <td>1.000000</td>\n",
       "      <td>1.000000e+00</td>\n",
       "    </tr>\n",
       "    <tr>\n",
       "      <th>25%</th>\n",
       "      <td>1.000000</td>\n",
       "      <td>1.000000e+00</td>\n",
       "    </tr>\n",
       "    <tr>\n",
       "      <th>50%</th>\n",
       "      <td>1.000000</td>\n",
       "      <td>1.000000e+00</td>\n",
       "    </tr>\n",
       "    <tr>\n",
       "      <th>75%</th>\n",
       "      <td>1.000000</td>\n",
       "      <td>1.000000e+00</td>\n",
       "    </tr>\n",
       "    <tr>\n",
       "      <th>max</th>\n",
       "      <td>6.000000</td>\n",
       "      <td>1.000000e+01</td>\n",
       "    </tr>\n",
       "  </tbody>\n",
       "</table>\n",
       "</div>"
      ],
      "text/plain": [
       "Operacion                      alquiler         venta\n",
       "Precio_ajustado_cap count  80584.000000  1.286320e+05\n",
       "                    mean    1378.268619  4.629104e+05\n",
       "                    std     2278.561376  8.705706e+05\n",
       "                    min      121.114020  2.215454e+04\n",
       "                    25%      411.223647  8.487494e+04\n",
       "                    50%      695.938194  1.716776e+05\n",
       "                    75%     1264.306023  4.143593e+05\n",
       "                    max    15917.403497  5.931287e+06\n",
       "Tamano              count  80584.000000  1.286320e+05\n",
       "                    mean      97.656185  1.242762e+02\n",
       "                    std       81.426916  1.113847e+02\n",
       "                    min       10.000000  1.200000e+01\n",
       "                    25%       57.000000  6.700000e+01\n",
       "                    50%       78.000000  9.300000e+01\n",
       "                    75%      110.000000  1.380000e+02\n",
       "                    max     1300.000000  3.015000e+03\n",
       "Habitaciones        count  80584.000000  1.286320e+05\n",
       "                    mean       2.148019  2.761646e+00\n",
       "                    std        1.085629  1.274739e+00\n",
       "                    min        1.000000  1.000000e+00\n",
       "                    25%        1.000000  2.000000e+00\n",
       "                    50%        2.000000  3.000000e+00\n",
       "                    75%        3.000000  3.000000e+00\n",
       "                    max        9.000000  1.600000e+01\n",
       "Banos               count  80584.000000  1.286320e+05\n",
       "                    mean       1.094858  1.087288e+00\n",
       "                    std        0.359091  3.796072e-01\n",
       "                    min        1.000000  1.000000e+00\n",
       "                    25%        1.000000  1.000000e+00\n",
       "                    50%        1.000000  1.000000e+00\n",
       "                    75%        1.000000  1.000000e+00\n",
       "                    max        6.000000  1.000000e+01"
      ]
     },
     "execution_count": 375,
     "metadata": {},
     "output_type": "execute_result"
    }
   ],
   "source": [
    "df.groupby(\"Operacion\")[[\"Precio_ajustado_cap\",\"Tamano\",\"Habitaciones\",\"Banos\"]].describe().T\n"
   ]
  },
  {
   "cell_type": "markdown",
   "id": "c396a2a5",
   "metadata": {},
   "source": [
    "#### **Conclusiones de las estadísticas generales**\n",
    "\n",
    "1. Precio ajustado\n",
    "\n",
    "**Alquiler**\n",
    "- Media: aprox 1.378 €\n",
    "- Mediana: aprox 696 €\n",
    "- Rango intercuartílico: aprox 411 € (Q1) – aprox 1.264 € (Q3)\n",
    "- Máximo: aprox 15.917 € (todavía casos muy altos, aunque ya capados).\n",
    "- Distribución muy asimétrica (muchos alquileres económicos y unos pocos muy caros).\n",
    "\n",
    "**Venta**\n",
    "- Media: aprox 462.910 €\n",
    "- Mediana: aprox 171.677 €\n",
    "- Rango intercuartílico: aprox 84.749 € (Q1) – aprox 414.359 € (Q3)\n",
    "- Máximo: aprox 5,9 millones (outliers controlados pero aún extremos).\n",
    "- También sesgada, pero la mediana (aprox 172k) muestra que la mayoría son viviendas en rango medio.\n",
    "\n",
    "2. Tamaño (m²)\n",
    "\n",
    "**Alquiler**\n",
    "\n",
    "- Media: aprox 98 m², Mediana: 78 m².\n",
    "- Hay viviendas muy pequeñas (10 m² - estudios).\n",
    "- Valores muy grandes (1.300 m²), mansiones/pisos de lujo.\n",
    "\n",
    "**Venta**\n",
    "- Media: aprox 123 m², Mediana: 93 m².\n",
    "- Similar patrón, pero en venta predominan viviendas algo más grandes.\n",
    "\n",
    "3. Habitaciones\n",
    "\n",
    "**Alquiler**\n",
    "- Mediana = 2, con mayoría entre 1–3 habitaciones.\n",
    "\n",
    "**Venta**\n",
    "- Mediana = 3, con más oferta de pisos grandes (hasta 16 habitaciones).\n",
    "\n",
    "4. Baños\n",
    "\n",
    "- En ambas operaciones, la mayoría de las viviendas tienen 1 baño.\n",
    "- En venta, hay viviendas con hasta 10 baños (mansiones / casas grandes)"
   ]
  },
  {
   "cell_type": "markdown",
   "id": "6780b7d9",
   "metadata": {},
   "source": [
    "### **Distribución de precios**"
   ]
  },
  {
   "cell_type": "code",
   "execution_count": 376,
   "id": "15804b0b",
   "metadata": {},
   "outputs": [
    {
     "data": {
      "image/png": "[encoded data removed]",
      "text/plain": [
       "<Figure size 640x480 with 1 Axes>"
      ]
     },
     "metadata": {},
     "output_type": "display_data"
    },
    {
     "data": {
      "image/png": "[encoded data removed]",
      "text/plain": [
       "<Figure size 640x480 with 1 Axes>"
      ]
     },
     "metadata": {},
     "output_type": "display_data"
    }
   ],
   "source": [
    "import seaborn as sns\n",
    "import matplotlib.pyplot as plt\n",
    "\n",
    "sns.histplot(data=df[df[\"Operacion\"]==\"venta\"], x=\"Precio_ajustado_cap\", bins=50, kde=True)\n",
    "plt.title(\"Distribución Precio Venta\")\n",
    "plt.show()\n",
    "\n",
    "sns.histplot(data=df[df[\"Operacion\"]==\"alquiler\"], x=\"Precio_ajustado_cap\", bins=50, kde=True)\n",
    "plt.title(\"Distribución Precio Alquiler\")\n",
    "plt.show()\n"
   ]
  },
  {
   "cell_type": "markdown",
   "id": "2d7e43df",
   "metadata": {},
   "source": [
    "#### **Conclusiones de la Distribución de precios**\n",
    "\n",
    "Venta\n",
    "\n",
    "- Distribución muy sesgada a la derecha.\n",
    "- La mayoría de las viviendas están por debajo de 300.000 €, con un pico muy fuerte en el rango bajo (~50.000–200.000 €).\n",
    "- Aunque los precios están capados (P1–P99), aún se observan casos extremos hasta los 5–6 millones.\n",
    "\n",
    "Alquiler\n",
    "\n",
    "- También muy sesgada a la derecha.\n",
    "- La mayoría de los alquileres se concentran entre 400–1.200 € al mes.\n",
    "- Existen outliers significativos con precios de más de 10.000–15.000 €, pero son casos muy raros (pueden ser pisos muy lujosos).\n",
    "- El patrón muestra claramente que la mediana (~700 €) es mucho más representativa que la media (~1.378 €).\n",
    "\n"
   ]
  },
  {
   "cell_type": "markdown",
   "id": "ba43d89d",
   "metadata": {},
   "source": [
    "### **Precios por distrito**\n",
    "\n",
    "Ranking de distritos más caros y más baratos"
   ]
  },
  {
   "cell_type": "code",
   "execution_count": 377,
   "id": "89418d01",
   "metadata": {},
   "outputs": [
    {
     "name": "stdout",
     "output_type": "stream",
     "text": [
      "Operacion             alquiler          venta\n",
      "Distrito                                     \n",
      "SALAMANCA          1019.355527  455326.568320\n",
      "MONCLOAARAVACA      593.731458  422088.789608\n",
      "CHAMARTIN           801.014504  383868.080973\n",
      "CHAMBERI            938.512961  373036.915190\n",
      "CENTRO              756.077840  292212.303002\n",
      "RETIRO              825.270242  266278.904067\n",
      "FUENCARRALELPARDO   735.741496  240191.005167\n",
      "ARGANZUELA          707.789880  234837.338854\n",
      "HORTALEZA           636.316935  229961.603876\n",
      "BARAJAS             748.757926  224390.732441\n",
      "VICALVARO           639.635960  164355.023081\n",
      "TETUAN              679.713896  150082.790118\n",
      "VILLADEVALLECAS     367.324753  145479.181301\n",
      "CIUDADLINEAL        658.303661  131583.496272\n",
      "MORATALAZ           625.167880  122365.046029\n",
      "SANBLASCANILLEJAS   543.875485  115224.232679\n",
      "LATINA              568.247865  114138.883936\n",
      "USERA               500.335098  112182.056273\n",
      "CARABANCHEL         524.259205  107200.461950\n",
      "PUENTEDEVALLECAS    470.776254   91066.561710\n",
      "VILLAVERDE          435.530697   85163.189145\n"
     ]
    }
   ],
   "source": [
    "precios_distrito = df.groupby([\"Distrito\",\"Operacion\"])[\"Precio_ajustado_cap\"].median().unstack()\n",
    "print(precios_distrito.sort_values(\"venta\", ascending=False).head(21))\n"
   ]
  },
  {
   "cell_type": "markdown",
   "id": "3bd1429c",
   "metadata": {},
   "source": [
    "#### **Conclusiones del ranking de precio por distrito**"
   ]
  },
  {
   "cell_type": "markdown",
   "id": "d7fefc85",
   "metadata": {},
   "source": [
    "**Venta (precio mediano)**\n",
    "\n",
    "- Distritos más caros:\n",
    "\n",
    "   - Salamanca (~455.000 €)\n",
    "   - Moncloa-Aravaca (~422.000 €)\n",
    "   - Chamartín (~383.000 €)\n",
    "   - Chamberí (~377.000 €)\n",
    "   - Centro (~292.000 €)\n",
    "\n",
    "Coincide con las zonas premium de Madrid, con mayor demanda y oferta de alto nivel.\n",
    "\n",
    "- Distritos más baratos:\n",
    "\n",
    "   - Villaverde (~85.000 €)\n",
    "   - Puente de Vallecas (~107.000 €)\n",
    "   - Carabanchel (~120.000 €)\n",
    "   - Usera (~142.000 €)\n",
    "   - Latina (~155.000 €)\n",
    "\n",
    "Zonas periféricas o tradicionalmente más asequibles.\n",
    "\n",
    "**Alquiler (precio mediano, €/mes)**\n",
    "\n",
    "- Más caros:\n",
    "\n",
    "   - Salamanca (~1.020 €)\n",
    "   - Chamberí (~939 €)\n",
    "   - Chamartín (~801 €)\n",
    "   - Centro (~756 €)\n",
    "   - Retiro (~825 €)\n",
    "\n",
    "- Más baratos:\n",
    "\n",
    "   - Villaverde (~435 €)\n",
    "   - Puente de Vallecas (~470 €)\n",
    "   - Carabanchel (~524 €)\n",
    "   - Usera (~520 €)\n",
    "   - Latina (~569 €)\n",
    "\n",
    "La brecha es clara: los distritos más caros en venta también lo son en alquiler.\n",
    "\n"
   ]
  },
  {
   "cell_type": "markdown",
   "id": "1b1cb10f",
   "metadata": {},
   "source": [
    "Insights importantes\n",
    "\n",
    "- Salamanca lidera tanto en venta como en alquiler - mercado de lujo consolidado.\n",
    "- Distritos como Villaverde, Usera, Carabanchel y Puente de Vallecas concentran los precios más bajos, mostrando una clara segregación espacial.\n",
    "- La relación venta–alquiler parece consistente: donde comprar es caro, también lo es alquilar."
   ]
  },
  {
   "cell_type": "markdown",
   "id": "522fb112",
   "metadata": {},
   "source": [
    "### **Precio por m²**"
   ]
  },
  {
   "cell_type": "code",
   "execution_count": 383,
   "id": "d209f2b3",
   "metadata": {},
   "outputs": [
    {
     "name": "stdout",
     "output_type": "stream",
     "text": [
      "Operacion           alquiler        venta\n",
      "Distrito                                 \n",
      "SALAMANCA          11.275638  3371.024183\n",
      "CHAMBERI           11.540706  2891.476717\n",
      "CENTRO             10.837421  2715.683106\n",
      "CHAMARTIN           9.701644  2694.062181\n",
      "ARGANZUELA         10.438738  2640.063692\n",
      "MONCLOAARAVACA      7.361954  2360.292417\n",
      "RETIRO              9.487043  2282.401083\n",
      "FUENCARRALELPARDO   7.906412  2195.392060\n",
      "BARAJAS             8.259268  2163.565346\n",
      "HORTALEZA           7.519592  1876.051844\n",
      "TETUAN              9.992737  1830.761259\n",
      "VILLADEVALLECAS     8.123269  1702.615197\n",
      "MORATALAZ           7.748428  1668.325920\n",
      "VICALVARO           7.267030  1621.148774\n",
      "CIUDADLINEAL        8.940016  1613.933204\n",
      "LATINA              8.225682  1554.906799\n",
      "CARABANCHEL         8.213992  1455.364761\n",
      "SANBLASCANILLEJAS   7.795540  1442.947180\n",
      "USERA               7.914315  1375.554125\n",
      "PUENTEDEVALLECAS    8.256821  1320.218306\n",
      "VILLAVERDE          7.350691  1225.201599\n"
     ]
    }
   ],
   "source": [
    "# Calcular Precio por m² \n",
    "df[\"Precio_m2\"] = df[\"Precio_ajustado_cap\"] / df[\"Tamano\"]\n",
    "\n",
    "# Agrupar por Distrito y Operación\n",
    "ranking_m2_op = (\n",
    "    df.groupby([\"Distrito\", \"Operacion\"])[\"Precio_m2\"]\n",
    "    .median()\n",
    "    .unstack()   \n",
    "    .sort_values(\"venta\", ascending=False)  # ordenar por precio de venta\n",
    ")\n",
    "\n",
    "print(ranking_m2_op.head(21))\n"
   ]
  },
  {
   "cell_type": "markdown",
   "id": "42108730",
   "metadata": {},
   "source": [
    "#### **Conclusiones del Precio por m²**\n",
    "\n",
    "1. **Venta (€/m² de compra)**\n",
    "\n",
    "Los distritos más caros son los esperados:\n",
    "\n",
    "- Salamanca (~3.371 €/m²)\n",
    "- Chamberí (~2.891 €/m²)\n",
    "- Centro (~2.715 €/m²)\n",
    "- Chamartín (~2.694 €/m²)\n",
    "- Arganzuela (~2.640 €/m²)\n",
    "\n",
    "Esto refleja la realidad del mercado madrileño, donde las zonas premium lideran.\n",
    "La diferencia con distritos periféricos es enorme: Villaverde (~1.225 €/m²) o Puente de Vallecas (~1.320 €/m²).\n",
    "\n",
    "2. **Alquiler (€/m² mensual)**\n",
    "\n",
    "Los precios están mucho más bajos en valor absoluto porque son €/m² al mes:\n",
    "\n",
    "- Salamanca (~11,3 €/m²)\n",
    "- Chamberí (~11,5 €/m²)\n",
    "- Centro (~10,8 €/m²)\n",
    "- Chamartín (~9,7 €/m²)\n",
    "- Arganzuela (~10,4 €/m²)\n",
    "\n",
    " Aquí también se observa el patrón esperado: los distritos premium en compra son igualmente los más caros en alquiler.\n",
    "\n",
    "En la parte baja:\n",
    "\n",
    "- Villaverde (~7,3 €/m²)\n",
    "- Usera (~7,9 €/m²)\n",
    "- San Blas (~7,8 €/m²)\n",
    "- Carabanchel (~8,2 €/m²)\n",
    "\n",
    "Reflejan la oferta más asequible."
   ]
  },
  {
   "cell_type": "markdown",
   "id": "5398a8af",
   "metadata": {},
   "source": [
    "Existe una brecha mayor en compra que en alquiler, lo cual es muy relevante para el análisis de accesibilidad y gentrificación."
   ]
  },
  {
   "cell_type": "markdown",
   "id": "54dd3c86",
   "metadata": {},
   "source": [
    "### **Evolución temporal**\n",
    "\n",
    "Precio mediano por año y operación."
   ]
  },
  {
   "cell_type": "code",
   "execution_count": 379,
   "id": "66a8e81a",
   "metadata": {},
   "outputs": [
    {
     "data": {
      "image/png": "[encoded data removed]",
      "text/plain": [
       "<Figure size 1000x500 with 1 Axes>"
      ]
     },
     "metadata": {},
     "output_type": "display_data"
    },
    {
     "data": {
      "image/png": "[encoded data removed]",
      "text/plain": [
       "<Figure size 1000x500 with 1 Axes>"
      ]
     },
     "metadata": {},
     "output_type": "display_data"
    }
   ],
   "source": [
    "import matplotlib.pyplot as plt\n",
    "\n",
    "# Datos agregados\n",
    "evolucion = df.groupby([\"Ano\",\"Operacion\"])[\"Precio_ajustado_cap\"].median().unstack()\n",
    "\n",
    "# Gráfico de evolución para venta\n",
    "plt.figure(figsize=(10,5))\n",
    "plt.plot(evolucion.index, evolucion[\"venta\"], marker=\"o\", color=\"orange\")\n",
    "plt.title(\"Evolución del precio mediano de venta por año\")\n",
    "plt.ylabel(\"€\")\n",
    "plt.xlabel(\"Año\")\n",
    "plt.grid(True, alpha=0.3)\n",
    "plt.show()\n",
    "\n",
    "# Gráfico de evolución para alquiler\n",
    "plt.figure(figsize=(10,5))\n",
    "plt.plot(evolucion.index, evolucion[\"alquiler\"], marker=\"o\", color=\"blue\")\n",
    "plt.title(\"Evolución del precio mediano de alquiler por año\")\n",
    "plt.ylabel(\"€\")\n",
    "plt.xlabel(\"Año\")\n",
    "plt.grid(True, alpha=0.3)\n",
    "plt.show()\n"
   ]
  },
  {
   "cell_type": "markdown",
   "id": "4c37c859",
   "metadata": {},
   "source": [
    "#### **Conclusión de Evolución Temporal**\n",
    "\n",
    "1. Venta y alquiler muestran patrones muy parecidos:\n",
    "\n",
    "- Caída fuerte hasta 2014.\n",
    "- Recuperación sostenida desde 2015.\n",
    "- Estancamiento/ligero retroceso en 2020–2021 (COVID).\n",
    "- Crecimiento acelerado desde 2021.\n",
    "\n",
    "2. El ritmo de subida post-2021 es más fuerte en alquiler que en venta, lo que sugiere presión de demanda y escasez de oferta en el mercado de arrendamiento.\n",
    "\n",
    "3. Estos resultados permiten hablar de dos ciclos:\n",
    "\n",
    "- 2011–2014: caída por crisis.\n",
    "- 2015–2024: expansión, con récords actuales."
   ]
  },
  {
   "cell_type": "markdown",
   "id": "baf49763",
   "metadata": {},
   "source": [
    "### **Influencia de características**\n",
    "\n",
    "Comparar precios según atributos: ascensor, terraza, garaje, piscina…"
   ]
  },
  {
   "cell_type": "code",
   "execution_count": 380,
   "id": "c466b405",
   "metadata": {},
   "outputs": [
    {
     "name": "stdout",
     "output_type": "stream",
     "text": [
      "Ascensor → Ascensor\n",
      "False    64105.827184\n",
      "True     76468.355785\n",
      "Name: Precio_ajustado_cap, dtype: float64\n",
      "Terraza → Terraza\n",
      "False    67245.659500\n",
      "True     86388.783654\n",
      "Name: Precio_ajustado_cap, dtype: float64\n",
      "Garaje → Garaje\n",
      "False     67424.246385\n",
      "True     128827.163057\n",
      "Name: Precio_ajustado_cap, dtype: float64\n",
      "Piscina → Piscina\n",
      "False    70445.970439\n",
      "True     49767.927904\n",
      "Name: Precio_ajustado_cap, dtype: float64\n"
     ]
    }
   ],
   "source": [
    "caracteristicas = [\"Ascensor\",\"Terraza\",\"Garaje\",\"Piscina\"]\n",
    "for c in caracteristicas:\n",
    "    print(c, \"→\", df.groupby(c)[\"Precio_ajustado_cap\"].median())\n"
   ]
  },
  {
   "cell_type": "markdown",
   "id": "edfbc957",
   "metadata": {},
   "source": [
    "#### **Conclusiones preliminares de la influencia de las características**\n",
    "\n",
    "**1. Ascensor**\n",
    "- Sin ascensor: ~64.100 €\n",
    "- Con ascensor: ~76.400 €\n",
    "\n",
    "Las viviendas con ascensor tienen un valor mediano un 20% más alto.\n",
    "Esto es lógico en Madrid, especialmente en edificios antiguos del centro donde un ascensor marca una gran diferencia.\n",
    "\n",
    "**2. Terraza**\n",
    "\n",
    "- Sin terraza: ~67.200 €\n",
    "- Con terraza: ~86.400 €\n",
    "\n",
    "Una terraza incrementa el precio en torno a un 28%.\n",
    "Refleja la fuerte demanda de espacios exteriores, sobre todo tras la pandemia.\n",
    "\n",
    "**3. Garaje**\n",
    "\n",
    "- Sin garaje: ~67.400 €\n",
    "- Con garaje: ~128.800 €\n",
    "\n",
    "Contar con garaje prácticamente duplica el precio mediano.\n",
    "Esto es un hallazgo muy potente: el garaje no solo añade valor, sino que puede estar correlacionado con viviendas de mayor tamaño o en zonas con más poder adquisitivo.\n",
    "\n",
    "**4. Piscina**\n",
    "\n",
    "- Sin piscina: ~70.445 €\n",
    "- Con piscina: ~49.768 €\n",
    "\n",
    "Este resultado es contraintuitivo: parece que tener piscina se asocia a un precio menor.\n",
    "\n",
    "Muchas viviendas con piscina están en urbanizaciones periféricas o en municipios con menor precio de suelo.\n",
    "\n",
    "El dataset mezcla tanto pisos urbanos (caros, sin piscina) como chalets periféricos (más baratos, con piscina).\n",
    "\n",
    "**Lectura general**\n",
    "\n",
    "1. Ascensor, terraza y garaje tienen un impacto positivo muy claro en el precio.\n",
    "2. La piscina no aparece como un atributo diferenciador positivo en este dataset, probablemente por un efecto de localización.\n",
    "3. El garaje es el atributo más diferencial, seguido por la terraza y el ascensor."
   ]
  }
 ],
 "metadata": {
  "kernelspec": {
   "display_name": "TFM (3.12.9)",
   "language": "python",
   "name": "python3"
  },
  "language_info": {
   "codemirror_mode": {
    "name": "ipython",
    "version": 3
   },
   "file_extension": ".py",
   "mimetype": "text/x-python",
   "name": "python",
   "nbconvert_exporter": "python",
   "pygments_lexer": "ipython3",
   "version": "3.12.9"
  }
 },
 "nbformat": 4,
 "nbformat_minor": 5
}
