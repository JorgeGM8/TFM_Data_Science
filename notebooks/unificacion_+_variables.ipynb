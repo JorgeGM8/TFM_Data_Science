{
 "cells": [
  {
   "cell_type": "markdown",
   "id": "081336c9",
   "metadata": {},
   "source": [
    "UNIFICACION CON DATASET DE VARIABLE (AÑO 2025)"
   ]
  },
  {
   "cell_type": "code",
   "execution_count": null,
   "id": "e9471064",
   "metadata": {},
   "outputs": [
    {
     "name": "stdout",
     "output_type": "stream",
     "text": [
      "Unificación completada\n",
      "Filas: 15960 | Columnas: 44\n",
      "Columnas clave presentes: {True}\n",
      "     distrito  anio  precio_num  Precio_venta  Precio_alquiler\n",
      "0  arganzuela  2025      1280.0           NaN              NaN\n",
      "1  arganzuela  2025      1700.0           NaN              NaN\n",
      "2  arganzuela  2025      1300.0           NaN              NaN\n",
      "3  arganzuela  2025      1500.0           NaN              NaN\n",
      "4  arganzuela  2025      1000.0           NaN              NaN\n",
      "Guardado en: C:\\Users\\andre\\OneDrive\\Documentos\\IMF\\TFM\\Nuevos CSV\\descargas\n"
     ]
    }
   ],
   "source": [
    "import pandas as pd\n",
    "import unicodedata\n",
    "from pathlib import Path\n",
    "\n",
    "# Rutas\n",
    "PATH_GENERAL = Path(r\"C:\\Users\\andre\\OneDrive\\Documentos\\IMF\\TFM\\Nuevos CSV\\descargas\\inmuebles_unificado_total_final.csv\")\n",
    "PATH_VARIABLES = Path(r\"C:\\Users\\andre\\OneDrive\\Documentos\\IMF\\TFM\\Nuevos CSV\\descargas\\gentrificacion_madrid.csv\")\n",
    "\n",
    "ANIO_INMUEBLES = 2025\n",
    "\n",
    "\n",
    "def std_text(s: str):\n",
    "    if pd.isna(s): \n",
    "        return s\n",
    "    s = str(s).strip().lower()\n",
    "    s = ''.join(ch for ch in unicodedata.normalize('NFKD', s) if not unicodedata.combining(ch))\n",
    "    s = s.replace(\"-\", \"\").replace(\" \", \"\")\n",
    "    return s\n",
    "\n",
    "# Cargar\n",
    "df_gen = pd.read_csv(PATH_GENERAL)\n",
    "df_var = pd.read_csv(PATH_VARIABLES)\n",
    "\n",
    "# Asegurar columna 'distrito_std' \n",
    "df_gen[\"distrito_std\"] = df_gen[\"distrito\"].astype(str).map(std_text)\n",
    "# Añadir 'anio' fijo (si ya existe una columna de año en tu general, usa esa)\n",
    "df_gen[\"anio\"] = ANIO_INMUEBLES\n",
    "\n",
    "# Normalizar columna Distrito 'distrito_std'\n",
    "df_var[\"distrito_std\"] = df_var[\"Distrito\"].astype(str).map(std_text)\n",
    "\n",
    "# Asegurar tipo de año como int\n",
    "if \"Ano\" in df_var.columns:\n",
    "    df_var[\"Ano\"] = pd.to_numeric(df_var[\"Ano\"], errors=\"coerce\").astype(\"Int64\")\n",
    "else:\n",
    "    raise ValueError(\"El dataset de variables debe tener la columna 'Ano'.\")\n",
    "\n",
    "# Merge\n",
    "# Clave: distrito_std + año\n",
    "df_final = df_gen.merge(\n",
    "    df_var,\n",
    "    left_on=[\"distrito_std\", \"anio\"],\n",
    "    right_on=[\"distrito_std\", \"Ano\"],\n",
    "    how=\"left\",\n",
    "    suffixes=(\"\", \"_soc\")\n",
    ")\n",
    "\n",
    "print(\"Unificación completada\")\n",
    "print(\"Filas:\", len(df_final), \"| Columnas:\", len(df_final.columns))\n",
    "print(\"Columnas clave presentes:\",\n",
    "      {\"precio_num\" in df_final.columns, \"Precio_venta\" in df_final.columns, \"Precio_alquiler\" in df_final.columns})\n",
    "print(df_final[[\"distrito\",\"anio\",\"precio_num\",\"Precio_venta\",\"Precio_alquiler\"]].head(5))\n",
    "\n",
    "# Guardar\n",
    "OUT_DIR = PATH_GENERAL.parent\n",
    "df_final.to_csv(OUT_DIR / \"inmuebles_+_variables_distrito_anio.csv\", index=False)\n",
    "df_final.to_pickle(OUT_DIR / \"inmuebles_+_variables_distrito_anio.pkl\")\n",
    "try:\n",
    "    df_final.to_parquet(OUT_DIR / \"inmuebles_+_variables_distrito_anio.parquet\", index=False)\n",
    "except Exception as e:\n",
    "    print(\"Parquet no guardado (instala pyarrow o fastparquet). Detalle:\", e)\n",
    "\n",
    "print(\"Guardado en:\", OUT_DIR)\n"
   ]
  },
  {
   "cell_type": "code",
   "execution_count": 10,
   "id": "03be66c1",
   "metadata": {},
   "outputs": [
    {
     "ename": "PermissionError",
     "evalue": "[Errno 13] Permission denied: 'C:\\\\Users\\\\andre\\\\OneDrive\\\\Documentos\\\\IMF\\\\TFM\\\\Nuevos CSV\\\\descargas\\\\inmuebles_variables_final.csv'",
     "output_type": "error",
     "traceback": [
      "\u001b[1;31m---------------------------------------------------------------------------\u001b[0m",
      "\u001b[1;31mPermissionError\u001b[0m                           Traceback (most recent call last)",
      "Cell \u001b[1;32mIn[10], line 3\u001b[0m\n\u001b[0;32m      1\u001b[0m \u001b[38;5;66;03m# Guardar en CSV\u001b[39;00m\n\u001b[0;32m      2\u001b[0m OUT_PATH \u001b[38;5;241m=\u001b[39m Path(\u001b[38;5;124mr\u001b[39m\u001b[38;5;124m\"\u001b[39m\u001b[38;5;124mC:\u001b[39m\u001b[38;5;124m\\\u001b[39m\u001b[38;5;124mUsers\u001b[39m\u001b[38;5;124m\\\u001b[39m\u001b[38;5;124mandre\u001b[39m\u001b[38;5;124m\\\u001b[39m\u001b[38;5;124mOneDrive\u001b[39m\u001b[38;5;124m\\\u001b[39m\u001b[38;5;124mDocumentos\u001b[39m\u001b[38;5;124m\\\u001b[39m\u001b[38;5;124mIMF\u001b[39m\u001b[38;5;124m\\\u001b[39m\u001b[38;5;124mTFM\u001b[39m\u001b[38;5;124m\\\u001b[39m\u001b[38;5;124mNuevos CSV\u001b[39m\u001b[38;5;124m\\\u001b[39m\u001b[38;5;124mdescargas\u001b[39m\u001b[38;5;124m\\\u001b[39m\u001b[38;5;124minmuebles_variables_final.csv\u001b[39m\u001b[38;5;124m\"\u001b[39m)\n\u001b[1;32m----> 3\u001b[0m df_final\u001b[38;5;241m.\u001b[39mto_csv(OUT_PATH, index\u001b[38;5;241m=\u001b[39m\u001b[38;5;28;01mFalse\u001b[39;00m, encoding\u001b[38;5;241m=\u001b[39m\u001b[38;5;124m\"\u001b[39m\u001b[38;5;124mutf-8\u001b[39m\u001b[38;5;124m\"\u001b[39m)\n\u001b[0;32m      5\u001b[0m \u001b[38;5;28mprint\u001b[39m(\u001b[38;5;124m\"\u001b[39m\u001b[38;5;124mDataset final guardado en CSV:\u001b[39m\u001b[38;5;124m\"\u001b[39m, OUT_PATH)\n\u001b[0;32m      6\u001b[0m \u001b[38;5;28mprint\u001b[39m(\u001b[38;5;124m\"\u001b[39m\u001b[38;5;124mFilas:\u001b[39m\u001b[38;5;124m\"\u001b[39m, \u001b[38;5;28mlen\u001b[39m(df_final), \u001b[38;5;124m\"\u001b[39m\u001b[38;5;124m| Columnas:\u001b[39m\u001b[38;5;124m\"\u001b[39m, \u001b[38;5;28mlen\u001b[39m(df_final\u001b[38;5;241m.\u001b[39mcolumns))\n",
      "File \u001b[1;32mc:\\ProgramData\\anaconda3\\Lib\\site-packages\\pandas\\util\\_decorators.py:333\u001b[0m, in \u001b[0;36mdeprecate_nonkeyword_arguments.<locals>.decorate.<locals>.wrapper\u001b[1;34m(*args, **kwargs)\u001b[0m\n\u001b[0;32m    327\u001b[0m \u001b[38;5;28;01mif\u001b[39;00m \u001b[38;5;28mlen\u001b[39m(args) \u001b[38;5;241m>\u001b[39m num_allow_args:\n\u001b[0;32m    328\u001b[0m     warnings\u001b[38;5;241m.\u001b[39mwarn(\n\u001b[0;32m    329\u001b[0m         msg\u001b[38;5;241m.\u001b[39mformat(arguments\u001b[38;5;241m=\u001b[39m_format_argument_list(allow_args)),\n\u001b[0;32m    330\u001b[0m         \u001b[38;5;167;01mFutureWarning\u001b[39;00m,\n\u001b[0;32m    331\u001b[0m         stacklevel\u001b[38;5;241m=\u001b[39mfind_stack_level(),\n\u001b[0;32m    332\u001b[0m     )\n\u001b[1;32m--> 333\u001b[0m \u001b[38;5;28;01mreturn\u001b[39;00m func(\u001b[38;5;241m*\u001b[39margs, \u001b[38;5;241m*\u001b[39m\u001b[38;5;241m*\u001b[39mkwargs)\n",
      "File \u001b[1;32mc:\\ProgramData\\anaconda3\\Lib\\site-packages\\pandas\\core\\generic.py:3967\u001b[0m, in \u001b[0;36mNDFrame.to_csv\u001b[1;34m(self, path_or_buf, sep, na_rep, float_format, columns, header, index, index_label, mode, encoding, compression, quoting, quotechar, lineterminator, chunksize, date_format, doublequote, escapechar, decimal, errors, storage_options)\u001b[0m\n\u001b[0;32m   3956\u001b[0m df \u001b[38;5;241m=\u001b[39m \u001b[38;5;28mself\u001b[39m \u001b[38;5;28;01mif\u001b[39;00m \u001b[38;5;28misinstance\u001b[39m(\u001b[38;5;28mself\u001b[39m, ABCDataFrame) \u001b[38;5;28;01melse\u001b[39;00m \u001b[38;5;28mself\u001b[39m\u001b[38;5;241m.\u001b[39mto_frame()\n\u001b[0;32m   3958\u001b[0m formatter \u001b[38;5;241m=\u001b[39m DataFrameFormatter(\n\u001b[0;32m   3959\u001b[0m     frame\u001b[38;5;241m=\u001b[39mdf,\n\u001b[0;32m   3960\u001b[0m     header\u001b[38;5;241m=\u001b[39mheader,\n\u001b[1;32m   (...)\u001b[0m\n\u001b[0;32m   3964\u001b[0m     decimal\u001b[38;5;241m=\u001b[39mdecimal,\n\u001b[0;32m   3965\u001b[0m )\n\u001b[1;32m-> 3967\u001b[0m \u001b[38;5;28;01mreturn\u001b[39;00m DataFrameRenderer(formatter)\u001b[38;5;241m.\u001b[39mto_csv(\n\u001b[0;32m   3968\u001b[0m     path_or_buf,\n\u001b[0;32m   3969\u001b[0m     lineterminator\u001b[38;5;241m=\u001b[39mlineterminator,\n\u001b[0;32m   3970\u001b[0m     sep\u001b[38;5;241m=\u001b[39msep,\n\u001b[0;32m   3971\u001b[0m     encoding\u001b[38;5;241m=\u001b[39mencoding,\n\u001b[0;32m   3972\u001b[0m     errors\u001b[38;5;241m=\u001b[39merrors,\n\u001b[0;32m   3973\u001b[0m     compression\u001b[38;5;241m=\u001b[39mcompression,\n\u001b[0;32m   3974\u001b[0m     quoting\u001b[38;5;241m=\u001b[39mquoting,\n\u001b[0;32m   3975\u001b[0m     columns\u001b[38;5;241m=\u001b[39mcolumns,\n\u001b[0;32m   3976\u001b[0m     index_label\u001b[38;5;241m=\u001b[39mindex_label,\n\u001b[0;32m   3977\u001b[0m     mode\u001b[38;5;241m=\u001b[39mmode,\n\u001b[0;32m   3978\u001b[0m     chunksize\u001b[38;5;241m=\u001b[39mchunksize,\n\u001b[0;32m   3979\u001b[0m     quotechar\u001b[38;5;241m=\u001b[39mquotechar,\n\u001b[0;32m   3980\u001b[0m     date_format\u001b[38;5;241m=\u001b[39mdate_format,\n\u001b[0;32m   3981\u001b[0m     doublequote\u001b[38;5;241m=\u001b[39mdoublequote,\n\u001b[0;32m   3982\u001b[0m     escapechar\u001b[38;5;241m=\u001b[39mescapechar,\n\u001b[0;32m   3983\u001b[0m     storage_options\u001b[38;5;241m=\u001b[39mstorage_options,\n\u001b[0;32m   3984\u001b[0m )\n",
      "File \u001b[1;32mc:\\ProgramData\\anaconda3\\Lib\\site-packages\\pandas\\io\\formats\\format.py:1014\u001b[0m, in \u001b[0;36mDataFrameRenderer.to_csv\u001b[1;34m(self, path_or_buf, encoding, sep, columns, index_label, mode, compression, quoting, quotechar, lineterminator, chunksize, date_format, doublequote, escapechar, errors, storage_options)\u001b[0m\n\u001b[0;32m    993\u001b[0m     created_buffer \u001b[38;5;241m=\u001b[39m \u001b[38;5;28;01mFalse\u001b[39;00m\n\u001b[0;32m    995\u001b[0m csv_formatter \u001b[38;5;241m=\u001b[39m CSVFormatter(\n\u001b[0;32m    996\u001b[0m     path_or_buf\u001b[38;5;241m=\u001b[39mpath_or_buf,\n\u001b[0;32m    997\u001b[0m     lineterminator\u001b[38;5;241m=\u001b[39mlineterminator,\n\u001b[1;32m   (...)\u001b[0m\n\u001b[0;32m   1012\u001b[0m     formatter\u001b[38;5;241m=\u001b[39m\u001b[38;5;28mself\u001b[39m\u001b[38;5;241m.\u001b[39mfmt,\n\u001b[0;32m   1013\u001b[0m )\n\u001b[1;32m-> 1014\u001b[0m csv_formatter\u001b[38;5;241m.\u001b[39msave()\n\u001b[0;32m   1016\u001b[0m \u001b[38;5;28;01mif\u001b[39;00m created_buffer:\n\u001b[0;32m   1017\u001b[0m     \u001b[38;5;28;01massert\u001b[39;00m \u001b[38;5;28misinstance\u001b[39m(path_or_buf, StringIO)\n",
      "File \u001b[1;32mc:\\ProgramData\\anaconda3\\Lib\\site-packages\\pandas\\io\\formats\\csvs.py:251\u001b[0m, in \u001b[0;36mCSVFormatter.save\u001b[1;34m(self)\u001b[0m\n\u001b[0;32m    247\u001b[0m \u001b[38;5;250m\u001b[39m\u001b[38;5;124;03m\"\"\"\u001b[39;00m\n\u001b[0;32m    248\u001b[0m \u001b[38;5;124;03mCreate the writer & save.\u001b[39;00m\n\u001b[0;32m    249\u001b[0m \u001b[38;5;124;03m\"\"\"\u001b[39;00m\n\u001b[0;32m    250\u001b[0m \u001b[38;5;66;03m# apply compression and byte/text conversion\u001b[39;00m\n\u001b[1;32m--> 251\u001b[0m \u001b[38;5;28;01mwith\u001b[39;00m get_handle(\n\u001b[0;32m    252\u001b[0m     \u001b[38;5;28mself\u001b[39m\u001b[38;5;241m.\u001b[39mfilepath_or_buffer,\n\u001b[0;32m    253\u001b[0m     \u001b[38;5;28mself\u001b[39m\u001b[38;5;241m.\u001b[39mmode,\n\u001b[0;32m    254\u001b[0m     encoding\u001b[38;5;241m=\u001b[39m\u001b[38;5;28mself\u001b[39m\u001b[38;5;241m.\u001b[39mencoding,\n\u001b[0;32m    255\u001b[0m     errors\u001b[38;5;241m=\u001b[39m\u001b[38;5;28mself\u001b[39m\u001b[38;5;241m.\u001b[39merrors,\n\u001b[0;32m    256\u001b[0m     compression\u001b[38;5;241m=\u001b[39m\u001b[38;5;28mself\u001b[39m\u001b[38;5;241m.\u001b[39mcompression,\n\u001b[0;32m    257\u001b[0m     storage_options\u001b[38;5;241m=\u001b[39m\u001b[38;5;28mself\u001b[39m\u001b[38;5;241m.\u001b[39mstorage_options,\n\u001b[0;32m    258\u001b[0m ) \u001b[38;5;28;01mas\u001b[39;00m handles:\n\u001b[0;32m    259\u001b[0m     \u001b[38;5;66;03m# Note: self.encoding is irrelevant here\u001b[39;00m\n\u001b[0;32m    260\u001b[0m     \u001b[38;5;28mself\u001b[39m\u001b[38;5;241m.\u001b[39mwriter \u001b[38;5;241m=\u001b[39m csvlib\u001b[38;5;241m.\u001b[39mwriter(\n\u001b[0;32m    261\u001b[0m         handles\u001b[38;5;241m.\u001b[39mhandle,\n\u001b[0;32m    262\u001b[0m         lineterminator\u001b[38;5;241m=\u001b[39m\u001b[38;5;28mself\u001b[39m\u001b[38;5;241m.\u001b[39mlineterminator,\n\u001b[1;32m   (...)\u001b[0m\n\u001b[0;32m    267\u001b[0m         quotechar\u001b[38;5;241m=\u001b[39m\u001b[38;5;28mself\u001b[39m\u001b[38;5;241m.\u001b[39mquotechar,\n\u001b[0;32m    268\u001b[0m     )\n\u001b[0;32m    270\u001b[0m     \u001b[38;5;28mself\u001b[39m\u001b[38;5;241m.\u001b[39m_save()\n",
      "File \u001b[1;32mc:\\ProgramData\\anaconda3\\Lib\\site-packages\\pandas\\io\\common.py:873\u001b[0m, in \u001b[0;36mget_handle\u001b[1;34m(path_or_buf, mode, encoding, compression, memory_map, is_text, errors, storage_options)\u001b[0m\n\u001b[0;32m    868\u001b[0m \u001b[38;5;28;01melif\u001b[39;00m \u001b[38;5;28misinstance\u001b[39m(handle, \u001b[38;5;28mstr\u001b[39m):\n\u001b[0;32m    869\u001b[0m     \u001b[38;5;66;03m# Check whether the filename is to be opened in binary mode.\u001b[39;00m\n\u001b[0;32m    870\u001b[0m     \u001b[38;5;66;03m# Binary mode does not support 'encoding' and 'newline'.\u001b[39;00m\n\u001b[0;32m    871\u001b[0m     \u001b[38;5;28;01mif\u001b[39;00m ioargs\u001b[38;5;241m.\u001b[39mencoding \u001b[38;5;129;01mand\u001b[39;00m \u001b[38;5;124m\"\u001b[39m\u001b[38;5;124mb\u001b[39m\u001b[38;5;124m\"\u001b[39m \u001b[38;5;129;01mnot\u001b[39;00m \u001b[38;5;129;01min\u001b[39;00m ioargs\u001b[38;5;241m.\u001b[39mmode:\n\u001b[0;32m    872\u001b[0m         \u001b[38;5;66;03m# Encoding\u001b[39;00m\n\u001b[1;32m--> 873\u001b[0m         handle \u001b[38;5;241m=\u001b[39m \u001b[38;5;28mopen\u001b[39m(\n\u001b[0;32m    874\u001b[0m             handle,\n\u001b[0;32m    875\u001b[0m             ioargs\u001b[38;5;241m.\u001b[39mmode,\n\u001b[0;32m    876\u001b[0m             encoding\u001b[38;5;241m=\u001b[39mioargs\u001b[38;5;241m.\u001b[39mencoding,\n\u001b[0;32m    877\u001b[0m             errors\u001b[38;5;241m=\u001b[39merrors,\n\u001b[0;32m    878\u001b[0m             newline\u001b[38;5;241m=\u001b[39m\u001b[38;5;124m\"\u001b[39m\u001b[38;5;124m\"\u001b[39m,\n\u001b[0;32m    879\u001b[0m         )\n\u001b[0;32m    880\u001b[0m     \u001b[38;5;28;01melse\u001b[39;00m:\n\u001b[0;32m    881\u001b[0m         \u001b[38;5;66;03m# Binary mode\u001b[39;00m\n\u001b[0;32m    882\u001b[0m         handle \u001b[38;5;241m=\u001b[39m \u001b[38;5;28mopen\u001b[39m(handle, ioargs\u001b[38;5;241m.\u001b[39mmode)\n",
      "\u001b[1;31mPermissionError\u001b[0m: [Errno 13] Permission denied: 'C:\\\\Users\\\\andre\\\\OneDrive\\\\Documentos\\\\IMF\\\\TFM\\\\Nuevos CSV\\\\descargas\\\\inmuebles_variables_final.csv'"
     ]
    }
   ],
   "source": [
    "# Guardar en CSV\n",
    "OUT_PATH = Path(r\"C:\\Users\\andre\\OneDrive\\Documentos\\IMF\\TFM\\Nuevos CSV\\descargas\\inmuebles_variables_final.csv\")\n",
    "df_final.to_csv(OUT_PATH, index=False, encoding=\"utf-8\")\n",
    "\n",
    "print(\"Dataset final guardado en CSV:\", OUT_PATH)\n",
    "print(\"Filas:\", len(df_final), \"| Columnas:\", len(df_final.columns))"
   ]
  },
  {
   "cell_type": "markdown",
   "id": "9d532a34",
   "metadata": {},
   "source": [
    "ANALISIS DE DATOS"
   ]
  },
  {
   "cell_type": "code",
   "execution_count": null,
   "id": "a96eea67",
   "metadata": {},
   "outputs": [
    {
     "name": "stdout",
     "output_type": "stream",
     "text": [
      "Dimensiones del dataset: (16254, 44)\n",
      "\n",
      "Tipos de datos:\n",
      "descripcion                  object\n",
      "descripcion_larga            object\n",
      "distrito                     object\n",
      "distrito_std                 object\n",
      "habitaciones                 object\n",
      "link                         object\n",
      "localidad                    object\n",
      "operacion                    object\n",
      "origen_archivo               object\n",
      "precio                       object\n",
      "tamanio                      object\n",
      "has_antigüedad               object\n",
      "has_banos                    object\n",
      "has_garaje                   object\n",
      "has_trastero                 object\n",
      "has_piscina                  object\n",
      "has_terraza                  object\n",
      "precio_num                  float64\n",
      "num_banos                   float64\n",
      "anio_construccion           float64\n",
      "antiguedad_texto            float64\n",
      "antiguedad_calc             float64\n",
      "antiguedad_final            float64\n",
      "texto_embedding              object\n",
      "embedding_str                object\n",
      "anio                          Int64\n",
      "Ano                          object\n",
      "Distrito                     object\n",
      "Precio_venta                float64\n",
      "Precio_alquiler             float64\n",
      "Esperanza_vida              float64\n",
      "Renta_neta_persona          float64\n",
      "Renta_neta_hogar            float64\n",
      "Renta_bruta_persona         float64\n",
      "Renta_bruta_hogar           float64\n",
      "Edad_media                  float64\n",
      "Mayores_65anos%             float64\n",
      "Menores_18anos%             float64\n",
      "Tamano_vivienda_personas    float64\n",
      "Paro_registrado%            float64\n",
      "Apartamentos_turisticos     float64\n",
      "Superficie_distrito_ha      float64\n",
      "Densidad_poblacion          float64\n",
      "Zonas_verdes%               float64\n",
      "dtype: object\n"
     ]
    }
   ],
   "source": [
    "df = df_final\n",
    "# Estructura general\n",
    "print(\"Dimensiones del dataset:\", df.shape)\n",
    "print(\"\\nTipos de datos:\")\n",
    "print(df.dtypes)"
   ]
  },
  {
   "cell_type": "code",
   "execution_count": 34,
   "id": "40a1a120",
   "metadata": {},
   "outputs": [
    {
     "name": "stdout",
     "output_type": "stream",
     "text": [
      " Valores únicos en 'anio': [2011, 2012, 2013, 2014, 2015, 2016, 2017, 2018, 2019, 2020, 2021, 2022, 2023, 2024, 2025]\n",
      " Valores únicos en 'Ano': []\n",
      "\n",
      " Filas donde 'anio' ≠ 'Ano': 0\n",
      "Empty DataFrame\n",
      "Columns: [distrito, anio, Ano, precio_num]\n",
      "Index: []\n"
     ]
    }
   ],
   "source": [
    "# Comparación entre 'anio' y 'Ano'\n",
    "\n",
    "print(\" Valores únicos en 'anio':\", sorted(df[\"anio\"].dropna().unique()))\n",
    "print(\" Valores únicos en 'Ano':\", sorted(df[\"Ano\"].dropna().unique()))\n",
    "\n",
    "# Ver si hay diferencias fila a fila\n",
    "df_diff = df[df[\"anio\"] != df[\"Ano\"]][[\"distrito\",\"anio\",\"Ano\",\"precio_num\"]]\n",
    "\n",
    "print(\"\\n Filas donde 'anio' ≠ 'Ano':\", len(df_diff))\n",
    "print(df_diff.head(10))\n"
   ]
  },
  {
   "cell_type": "code",
   "execution_count": 35,
   "id": "309026f7",
   "metadata": {},
   "outputs": [
    {
     "name": "stdout",
     "output_type": "stream",
     "text": [
      "\n",
      " Porcentaje de valores nulos por columna:\n",
      "Ano                         100.00\n",
      "Distrito                    100.00\n",
      "Renta_bruta_hogar            98.97\n",
      "Densidad_poblacion           98.97\n",
      "Paro_registrado%             98.97\n",
      "Tamano_vivienda_personas     98.97\n",
      "Menores_18anos%              98.97\n",
      "Mayores_65anos%              98.97\n",
      "Edad_media                   98.97\n",
      "Renta_bruta_persona          98.97\n",
      "Renta_neta_hogar             98.97\n",
      "Renta_neta_persona           98.97\n",
      "Apartamentos_turisticos      98.71\n",
      "Precio_alquiler              98.19\n",
      "Precio_venta                 98.19\n",
      "Zonas_verdes%                98.19\n",
      "Esperanza_vida               98.19\n",
      "Superficie_distrito_ha       98.19\n",
      "antiguedad_calc              92.17\n",
      "anio_construccion            92.17\n",
      "antiguedad_texto             91.84\n",
      "antiguedad_final             84.74\n",
      "num_banos                    80.39\n",
      "descripcion                  10.21\n",
      "tamanio                       2.69\n",
      "descripcion_larga             2.27\n",
      "precio                        1.81\n",
      "embedding_str                 1.81\n",
      "habitaciones                  1.81\n",
      "link                          1.81\n",
      "localidad                     1.81\n",
      "operacion                     1.81\n",
      "origen_archivo                1.81\n",
      "precio_num                    1.81\n",
      "has_antigüedad                1.81\n",
      "texto_embedding               1.81\n",
      "has_banos                     1.81\n",
      "has_garaje                    1.81\n",
      "has_trastero                  1.81\n",
      "has_piscina                   1.81\n",
      "has_terraza                   1.81\n",
      "distrito_std                  0.00\n",
      "distrito                      0.00\n",
      "anio                          0.00\n",
      "dtype: float64\n"
     ]
    }
   ],
   "source": [
    "# Valores nulos\n",
    "\n",
    "print(\"\\n Porcentaje de valores nulos por columna:\")\n",
    "print((df.isna().mean() * 100).round(2).sort_values(ascending=False))"
   ]
  },
  {
   "cell_type": "code",
   "execution_count": 36,
   "id": "4b27312d",
   "metadata": {},
   "outputs": [
    {
     "name": "stdout",
     "output_type": "stream",
     "text": [
      "\n",
      " Estadísticas descriptivas numéricas:\n",
      "                            count           mean             std       min  \\\n",
      "precio_num                15960.0  550259.186779  1015089.042025    1000.0   \n",
      "num_banos                  3187.0       1.657358        0.791479       1.0   \n",
      "anio_construccion          1272.0    1994.226415       38.620089    1900.0   \n",
      "antiguedad_texto           1327.0       0.026375        0.641734       0.0   \n",
      "antiguedad_calc            1272.0      30.773585       38.620089       0.0   \n",
      "antiguedad_final           2481.0      14.129786       30.037317       0.0   \n",
      "anio                      16254.0    2024.864341        1.137122    2011.0   \n",
      "Precio_venta                294.0    3118.847959     1213.657363   1246.75   \n",
      "Precio_alquiler             294.0      12.621902        3.132282  7.533333   \n",
      "Esperanza_vida              294.0      84.706122        1.276954      80.5   \n",
      "Renta_neta_persona          168.0   17161.136905     5327.767736    9276.0   \n",
      "Renta_neta_hogar            168.0   42947.958333    12342.853514   24690.0   \n",
      "Renta_bruta_persona         168.0   21899.666667     7944.219416   10720.0   \n",
      "Renta_bruta_hogar           168.0   54723.547619    18614.915129   28371.0   \n",
      "Edad_media                  168.0      43.519643        2.192646      37.6   \n",
      "Mayores_65anos%             168.0       0.200238        0.037151     0.119   \n",
      "Menores_18anos%             168.0       0.158887        0.031619     0.081   \n",
      "Tamano_vivienda_personas    168.0       2.502381        0.193286       1.9   \n",
      "Paro_registrado%            168.0       0.056803        0.017231  0.027555   \n",
      "Apartamentos_turisticos     210.0       5.466667       10.473541       0.0   \n",
      "Superficie_distrito_ha      294.0    2878.357619     4897.278975    467.92   \n",
      "Densidad_poblacion          168.0     139.900573        94.08288  9.744894   \n",
      "Zonas_verdes%               294.0       0.093536        0.057107   0.01448   \n",
      "\n",
      "                                  25%          50%          75%          max  \n",
      "precio_num                     2300.0     251535.5     670500.0   15000000.0  \n",
      "num_banos                         1.0          2.0          2.0         10.0  \n",
      "anio_construccion             1968.75       2016.0       2025.0       2025.0  \n",
      "antiguedad_texto                  0.0          0.0          0.0         20.0  \n",
      "antiguedad_calc                   0.0          9.0        56.25        125.0  \n",
      "antiguedad_final                  0.0          0.0          7.0        125.0  \n",
      "anio                           2025.0       2025.0       2025.0       2025.0  \n",
      "Precio_venta              2171.354167  2858.166667  3856.808333  7933.666667  \n",
      "Precio_alquiler             10.302083        12.15      14.4675    24.143333  \n",
      "Esperanza_vida                   83.9         84.7         85.5         89.4  \n",
      "Renta_neta_persona            12698.0      16395.0     21020.75      30506.0  \n",
      "Renta_neta_hogar              32666.5      39326.5     53292.25      74842.0  \n",
      "Renta_bruta_persona          15103.25      20472.0      27341.0      42678.0  \n",
      "Renta_bruta_hogar             39339.5      49063.5      69673.5     104706.0  \n",
      "Edad_media                     42.075        43.55         45.6         47.8  \n",
      "Mayores_65anos%                 0.176        0.193      0.23375        0.268  \n",
      "Menores_18anos%               0.13575       0.1555        0.187        0.222  \n",
      "Tamano_vivienda_personas          2.4          2.5          2.6          2.8  \n",
      "Paro_registrado%             0.042123     0.055168     0.069279     0.103949  \n",
      "Apartamentos_turisticos           0.0          1.5          7.0         59.0  \n",
      "Superficie_distrito_ha         610.32      1404.83      2762.61     23783.84  \n",
      "Densidad_poblacion          65.403369   153.994006   215.962643   295.413746  \n",
      "Zonas_verdes%                0.053976     0.071742     0.119151     0.216774  \n"
     ]
    }
   ],
   "source": [
    "# Estadísticas numéricas\n",
    "\n",
    "print(\"\\n Estadísticas descriptivas numéricas:\")\n",
    "print(df.describe().T)"
   ]
  },
  {
   "cell_type": "code",
   "execution_count": 37,
   "id": "0c02e75e",
   "metadata": {},
   "outputs": [
    {
     "name": "stdout",
     "output_type": "stream",
     "text": [
      "\n",
      " Distribución de 'operacion':\n",
      "operacion\n",
      "venta       9613\n",
      "alquiler    6347\n",
      "NaN          294\n",
      "Name: count, dtype: int64\n",
      "\n",
      " Ejemplo de distritos:\n",
      "distrito\n",
      "chamartin              1157\n",
      "tetuan                 1146\n",
      "chamberi               1123\n",
      "barrio-de-salamanca    1112\n",
      "centro                 1098\n",
      "retiro                 1064\n",
      "moncloa                1027\n",
      "arganzuela              970\n",
      "ciudad-lineal           912\n",
      "fuencarral              836\n",
      "hortaleza               803\n",
      "carabanchel             763\n",
      "puente-de-vallecas      723\n",
      "latina                  658\n",
      "san-blas                589\n",
      "usera                   486\n",
      "villaverde              446\n",
      "vicalvaro               383\n",
      "villa-de-vallecas       350\n",
      "moratalaz               160\n",
      "barajas                 154\n",
      "Name: count, dtype: int64\n"
     ]
    }
   ],
   "source": [
    "# Variables categóricas clave\n",
    "\n",
    "print(\"\\n Distribución de 'operacion':\")\n",
    "print(df[\"operacion\"].value_counts(dropna=False))\n",
    "\n",
    "print(\"\\n Ejemplo de distritos:\")\n",
    "print(df[\"distrito\"].value_counts(dropna=False).head(21))"
   ]
  },
  {
   "cell_type": "markdown",
   "id": "932ef829",
   "metadata": {},
   "source": [
    "PRUEBA INTERNA"
   ]
  },
  {
   "cell_type": "code",
   "execution_count": 39,
   "id": "a8c9db40",
   "metadata": {},
   "outputs": [
    {
     "name": "stdout",
     "output_type": "stream",
     "text": [
      "El dataset tiene 44 columnas.\n",
      "Lista de columnas:\n",
      "- descripcion\n",
      "- descripcion_larga\n",
      "- distrito\n",
      "- distrito_std\n",
      "- habitaciones\n",
      "- link\n",
      "- localidad\n",
      "- operacion\n",
      "- origen_archivo\n",
      "- precio\n",
      "- tamanio\n",
      "- has_antigüedad\n",
      "- has_banos\n",
      "- has_garaje\n",
      "- has_trastero\n",
      "- has_piscina\n",
      "- has_terraza\n",
      "- precio_num\n",
      "- num_banos\n",
      "- anio_construccion\n",
      "- antiguedad_texto\n",
      "- antiguedad_calc\n",
      "- antiguedad_final\n",
      "- texto_embedding\n",
      "- embedding_str\n",
      "- anio\n",
      "- Ano\n",
      "- Distrito\n",
      "- Precio_venta\n",
      "- Precio_alquiler\n",
      "- Esperanza_vida\n",
      "- Renta_neta_persona\n",
      "- Renta_neta_hogar\n",
      "- Renta_bruta_persona\n",
      "- Renta_bruta_hogar\n",
      "- Edad_media\n",
      "- Mayores_65anos%\n",
      "- Menores_18anos%\n",
      "- Tamano_vivienda_personas\n",
      "- Paro_registrado%\n",
      "- Apartamentos_turisticos\n",
      "- Superficie_distrito_ha\n",
      "- Densidad_poblacion\n",
      "- Zonas_verdes%\n"
     ]
    }
   ],
   "source": [
    "import pandas as pd\n",
    "\n",
    "# Ruta del archivo\n",
    "path = r\"C:\\Users\\andre\\OneDrive\\Documentos\\IMF\\TFM\\Nuevos CSV\\inmuebles_variables_panel_modificado.csv\"\n",
    "\n",
    "# Cargar dataset\n",
    "df = pd.read_csv(path)\n",
    "\n",
    "# Mostrar columnas\n",
    "print(\"El dataset tiene\", len(df.columns), \"columnas.\")\n",
    "print(\"Lista de columnas:\")\n",
    "for col in df.columns:\n",
    "    print(\"-\", col)\n"
   ]
  },
  {
   "cell_type": "code",
   "execution_count": null,
   "id": "77dbe634",
   "metadata": {},
   "outputs": [
    {
     "name": "stdout",
     "output_type": "stream",
     "text": [
      "✅ Dataset limpio guardado en: C:\\Users\\andre\\OneDrive\\Documentos\\IMF\\TFM\\Nuevos CSV\\iinmuebles_variables_panel_modificado_clean.csv\n",
      "Columnas finales: ['distrito', 'distrito_std', 'habitaciones', 'localidad', 'operacion', 'precio', 'tamanio', 'has_antigüedad', 'has_banos', 'has_garaje', 'has_trastero', 'has_piscina', 'has_terraza', 'precio_num', 'num_banos', 'anio_construccion', 'antiguedad_texto', 'antiguedad_calc', 'antiguedad_final', 'anio', 'Ano', 'Distrito', 'Precio_venta', 'Precio_alquiler', 'Esperanza_vida', 'Renta_neta_persona', 'Renta_neta_hogar', 'Renta_bruta_persona', 'Renta_bruta_hogar', 'Edad_media', 'Mayores_65anos%', 'Menores_18anos%', 'Tamano_vivienda_personas', 'Paro_registrado%', 'Apartamentos_turisticos', 'Superficie_distrito_ha', 'Densidad_poblacion', 'Zonas_verdes%']\n"
     ]
    }
   ],
   "source": [
    "import pandas as pd\n",
    "\n",
    "# Ruta del archivo original\n",
    "path_in = r\"C:\\Users\\andre\\OneDrive\\Documentos\\IMF\\TFM\\Nuevos CSV\\inmuebles_variables_panel_modificado.csv\"\n",
    "path_out = r\"C:\\Users\\andre\\OneDrive\\Documentos\\IMF\\TFM\\Nuevos CSV\\iinmuebles_variables_panel_modificado_clean.csv\"\n",
    "\n",
    "# Leer dataset\n",
    "df = pd.read_csv(path_in)\n",
    "\n",
    "# Columnas a eliminar\n",
    "cols_to_drop = [\"origen_archivo\", \"descripcion\", \"descripcion_larga\", \"link\", \"texto_embedding\", \"embedding_str\"]\n",
    "\n",
    "# Eliminar si existen\n",
    "df = df.drop(columns=[c for c in cols_to_drop if c in df.columns])\n",
    "\n",
    "# Guardar dataset limpio\n",
    "df.to_csv(path_out, index=False, encoding=\"utf-8\")\n",
    "\n",
    "print(\"Dataset limpio guardado en:\", path_out)\n",
    "print(\"Columnas finales:\", df.columns.tolist())\n"
   ]
  }
 ],
 "metadata": {
  "kernelspec": {
   "display_name": "base",
   "language": "python",
   "name": "python3"
  },
  "language_info": {
   "codemirror_mode": {
    "name": "ipython",
    "version": 3
   },
   "file_extension": ".py",
   "mimetype": "text/x-python",
   "name": "python",
   "nbconvert_exporter": "python",
   "pygments_lexer": "ipython3",
   "version": "3.12.7"
  }
 },
 "nbformat": 4,
 "nbformat_minor": 5
}
